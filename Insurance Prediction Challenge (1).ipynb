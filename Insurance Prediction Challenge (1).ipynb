{
 "cells": [
  {
   "cell_type": "markdown",
   "id": "7c94a840",
   "metadata": {},
   "source": [
    "# PROJECT  : Insurance Prediction Challenge"
   ]
  },
  {
   "cell_type": "markdown",
   "id": "3e33d743",
   "metadata": {},
   "source": [
    "## Compiled by: Mashele G.P"
   ]
  },
  {
   "cell_type": "markdown",
   "id": "bb528e3d",
   "metadata": {},
   "source": [
    "## Project overview/Description\n",
    "Recently, there has been an increase in the number of building collapse in Lagos and major cities in Nigeria. Olusola Insurance Company offers a building insurance policy that protects buildings against damages that could be caused by a fire or vandalism, by a flood or storm."
   ]
  },
  {
   "cell_type": "markdown",
   "id": "4107b994",
   "metadata": {},
   "source": [
    "## Problem statement\n",
    "You have been appointed as the Lead Data Analyst to build a predictive model to determine if a building will have an insurance claim during a certain period or not. You will have to predict the probability of having at least one claim over the insured period of the building.The model will be based on the building characteristics. The target variable, Claim, is a:\n",
    "* 1 if the building has at least a claim over the insured period. <br>\n",
    "* 0 if the building doesn’t have a claim over the insured period. <br>"
   ]
  },
  {
   "cell_type": "markdown",
   "id": "6bee62e9",
   "metadata": {},
   "source": [
    "## Data Description\n",
    "* Customer Id:Identification number for the Policy holder.<br>\n",
    "* YearOfObservation:year of observation for the insured policy. <br>\t\n",
    "* Insured_Period:\"duration of insurance policy in Olusola Insurance. (Ex: Full year insurance, Policy Duration = 1\t 6 months = 0.5\". <br>\n",
    "* Residential:is the building a residential building or not. <br>\n",
    "* Building_Painted:\"is the building painted or not (N-Painted, V-Not Painted)\" <br>\t\n",
    "* Building_Fenced:\"is the building fence or not (N-Fenced, V-Not Fenced)\". <br>\n",
    "* Garden: building has garden or not (V-has garden O-no garden) <br>\n",
    "* Settlement: Area where the building is located. (R- rural areaU- urban area) <br>\n",
    "* Building Dimension: Size of the insured building in m2. <br>\t\n",
    "* Building_Type:\"The type of building (Type 1, 2, 3, 4)\". <br>\t\n",
    "* Date_of_Occupancy:date building was first occupied. <br>\t\n",
    "* NumberOfWindows:number of windows in the building. <br>\t\n",
    "* Geo Code: Geographical Code of the Insured building <br>\t\n",
    "* Claim: \"target variable. (0: no claim, 1: at least one claim over insured period).\"<br>"
   ]
  },
  {
   "cell_type": "markdown",
   "id": "80708075",
   "metadata": {},
   "source": [
    "### Import the necessary libraries"
   ]
  },
  {
   "cell_type": "code",
   "execution_count": 1,
   "id": "8420ac92",
   "metadata": {},
   "outputs": [],
   "source": [
    "# Libraries to help with reading and manipulating data\n",
    "import pandas as pd\n",
    "import numpy as np\n",
    "# Libaries to assist with visualization of data\n",
    "import matplotlib.pyplot as plt\n",
    "import seaborn as sns\n",
    "# To tune model, get different metric scores, and split data\n",
    "from sklearn.metrics import (mean_absolute_error,f1_score,accuracy_score,recall_score, precision_score)\n",
    "from sklearn import metrics\n",
    "from sklearn.model_selection import train_test_split, StratifiedKFold, cross_val_score\n",
    "# To be used for data scaling \n",
    "from sklearn.preprocessing import StandardScaler\n",
    "# To do hyperparameter tuning\n",
    "from sklearn.model_selection import GridSearchCV\n",
    "from sklearn.model_selection import RandomizedSearchCV\n",
    "# To define maximum number of columns to be displayed in a dataframe\n",
    "pd.set_option(\"display.max_columns\", None)\n",
    "pd.set_option(\"display.max_rows\", None)\n",
    "# To supress scientific notations for a dataframe\n",
    "pd.set_option(\"display.float_format\", lambda x: \"%.3f\" % x)\n",
    "# To help with model building\n",
    "from catboost import CatBoostClassifier\n",
    "# To suppress scientific notations\n",
    "pd.set_option(\"display.float_format\", lambda x: \"%.3f\" % x)\n",
    "# To suppress warnings\n",
    "import warnings\n",
    "warnings.filterwarnings(\"ignore\")"
   ]
  },
  {
   "cell_type": "code",
   "execution_count": 181,
   "id": "c868656d",
   "metadata": {},
   "outputs": [],
   "source": [
    "# Now lets read the train and test  dataset\n",
    "train_data = pd.read_csv(\"train_data(insurance).csv\",sep=\",\")\n",
    "data_test = pd.read_csv(\"test_data(Insurance).csv\",sep=\",\")"
   ]
  },
  {
   "cell_type": "code",
   "execution_count": 182,
   "id": "17217251",
   "metadata": {},
   "outputs": [
    {
     "data": {
      "text/html": [
       "<div>\n",
       "<style scoped>\n",
       "    .dataframe tbody tr th:only-of-type {\n",
       "        vertical-align: middle;\n",
       "    }\n",
       "\n",
       "    .dataframe tbody tr th {\n",
       "        vertical-align: top;\n",
       "    }\n",
       "\n",
       "    .dataframe thead th {\n",
       "        text-align: right;\n",
       "    }\n",
       "</style>\n",
       "<table border=\"1\" class=\"dataframe\">\n",
       "  <thead>\n",
       "    <tr style=\"text-align: right;\">\n",
       "      <th></th>\n",
       "      <th>Customer Id</th>\n",
       "      <th>YearOfObservation</th>\n",
       "      <th>Insured_Period</th>\n",
       "      <th>Residential</th>\n",
       "      <th>Building_Painted</th>\n",
       "      <th>Building_Fenced</th>\n",
       "      <th>Garden</th>\n",
       "      <th>Settlement</th>\n",
       "      <th>Building Dimension</th>\n",
       "      <th>Building_Type</th>\n",
       "      <th>Date_of_Occupancy</th>\n",
       "      <th>NumberOfWindows</th>\n",
       "      <th>Geo_Code</th>\n",
       "      <th>Claim</th>\n",
       "    </tr>\n",
       "  </thead>\n",
       "  <tbody>\n",
       "    <tr>\n",
       "      <th>0</th>\n",
       "      <td>H14663</td>\n",
       "      <td>2013</td>\n",
       "      <td>1.000</td>\n",
       "      <td>0</td>\n",
       "      <td>N</td>\n",
       "      <td>V</td>\n",
       "      <td>V</td>\n",
       "      <td>U</td>\n",
       "      <td>290.000</td>\n",
       "      <td>1</td>\n",
       "      <td>1960.000</td>\n",
       "      <td>.</td>\n",
       "      <td>1053</td>\n",
       "      <td>0</td>\n",
       "    </tr>\n",
       "    <tr>\n",
       "      <th>1</th>\n",
       "      <td>H2037</td>\n",
       "      <td>2015</td>\n",
       "      <td>1.000</td>\n",
       "      <td>0</td>\n",
       "      <td>V</td>\n",
       "      <td>N</td>\n",
       "      <td>O</td>\n",
       "      <td>R</td>\n",
       "      <td>490.000</td>\n",
       "      <td>1</td>\n",
       "      <td>1850.000</td>\n",
       "      <td>4</td>\n",
       "      <td>1053</td>\n",
       "      <td>0</td>\n",
       "    </tr>\n",
       "    <tr>\n",
       "      <th>2</th>\n",
       "      <td>H3802</td>\n",
       "      <td>2014</td>\n",
       "      <td>1.000</td>\n",
       "      <td>0</td>\n",
       "      <td>N</td>\n",
       "      <td>V</td>\n",
       "      <td>V</td>\n",
       "      <td>U</td>\n",
       "      <td>595.000</td>\n",
       "      <td>1</td>\n",
       "      <td>1960.000</td>\n",
       "      <td>.</td>\n",
       "      <td>1053</td>\n",
       "      <td>0</td>\n",
       "    </tr>\n",
       "    <tr>\n",
       "      <th>3</th>\n",
       "      <td>H3834</td>\n",
       "      <td>2013</td>\n",
       "      <td>1.000</td>\n",
       "      <td>0</td>\n",
       "      <td>V</td>\n",
       "      <td>V</td>\n",
       "      <td>V</td>\n",
       "      <td>U</td>\n",
       "      <td>2840.000</td>\n",
       "      <td>1</td>\n",
       "      <td>1960.000</td>\n",
       "      <td>.</td>\n",
       "      <td>1053</td>\n",
       "      <td>0</td>\n",
       "    </tr>\n",
       "    <tr>\n",
       "      <th>4</th>\n",
       "      <td>H5053</td>\n",
       "      <td>2014</td>\n",
       "      <td>1.000</td>\n",
       "      <td>0</td>\n",
       "      <td>V</td>\n",
       "      <td>N</td>\n",
       "      <td>O</td>\n",
       "      <td>R</td>\n",
       "      <td>680.000</td>\n",
       "      <td>1</td>\n",
       "      <td>1800.000</td>\n",
       "      <td>3</td>\n",
       "      <td>1053</td>\n",
       "      <td>0</td>\n",
       "    </tr>\n",
       "  </tbody>\n",
       "</table>\n",
       "</div>"
      ],
      "text/plain": [
       "  Customer Id  YearOfObservation  Insured_Period  Residential  \\\n",
       "0      H14663               2013           1.000            0   \n",
       "1       H2037               2015           1.000            0   \n",
       "2       H3802               2014           1.000            0   \n",
       "3       H3834               2013           1.000            0   \n",
       "4       H5053               2014           1.000            0   \n",
       "\n",
       "  Building_Painted Building_Fenced Garden Settlement  Building Dimension  \\\n",
       "0                N               V      V          U             290.000   \n",
       "1                V               N      O          R             490.000   \n",
       "2                N               V      V          U             595.000   \n",
       "3                V               V      V          U            2840.000   \n",
       "4                V               N      O          R             680.000   \n",
       "\n",
       "   Building_Type  Date_of_Occupancy NumberOfWindows Geo_Code  Claim  \n",
       "0              1           1960.000               .     1053      0  \n",
       "1              1           1850.000               4     1053      0  \n",
       "2              1           1960.000               .     1053      0  \n",
       "3              1           1960.000               .     1053      0  \n",
       "4              1           1800.000               3     1053      0  "
      ]
     },
     "execution_count": 182,
     "metadata": {},
     "output_type": "execute_result"
    }
   ],
   "source": [
    "# Print the first five rows of the  train dataset\n",
    "train_data.head()  "
   ]
  },
  {
   "cell_type": "code",
   "execution_count": 183,
   "id": "f1915d50",
   "metadata": {
    "scrolled": true
   },
   "outputs": [
    {
     "data": {
      "text/html": [
       "<div>\n",
       "<style scoped>\n",
       "    .dataframe tbody tr th:only-of-type {\n",
       "        vertical-align: middle;\n",
       "    }\n",
       "\n",
       "    .dataframe tbody tr th {\n",
       "        vertical-align: top;\n",
       "    }\n",
       "\n",
       "    .dataframe thead th {\n",
       "        text-align: right;\n",
       "    }\n",
       "</style>\n",
       "<table border=\"1\" class=\"dataframe\">\n",
       "  <thead>\n",
       "    <tr style=\"text-align: right;\">\n",
       "      <th></th>\n",
       "      <th>Customer Id</th>\n",
       "      <th>YearOfObservation</th>\n",
       "      <th>Insured_Period</th>\n",
       "      <th>Residential</th>\n",
       "      <th>Building_Painted</th>\n",
       "      <th>Building_Fenced</th>\n",
       "      <th>Garden</th>\n",
       "      <th>Settlement</th>\n",
       "      <th>Building Dimension</th>\n",
       "      <th>Building_Type</th>\n",
       "      <th>Date_of_Occupancy</th>\n",
       "      <th>NumberOfWindows</th>\n",
       "      <th>Geo_Code</th>\n",
       "      <th>Claim</th>\n",
       "    </tr>\n",
       "  </thead>\n",
       "  <tbody>\n",
       "    <tr>\n",
       "      <th>7155</th>\n",
       "      <td>H5290</td>\n",
       "      <td>2012</td>\n",
       "      <td>1.000</td>\n",
       "      <td>1</td>\n",
       "      <td>V</td>\n",
       "      <td>V</td>\n",
       "      <td>V</td>\n",
       "      <td>U</td>\n",
       "      <td>NaN</td>\n",
       "      <td>1</td>\n",
       "      <td>2001.000</td>\n",
       "      <td>.</td>\n",
       "      <td>NaN</td>\n",
       "      <td>0</td>\n",
       "    </tr>\n",
       "    <tr>\n",
       "      <th>7156</th>\n",
       "      <td>H5926</td>\n",
       "      <td>2013</td>\n",
       "      <td>1.000</td>\n",
       "      <td>0</td>\n",
       "      <td>V</td>\n",
       "      <td>V</td>\n",
       "      <td>V</td>\n",
       "      <td>U</td>\n",
       "      <td>NaN</td>\n",
       "      <td>2</td>\n",
       "      <td>1980.000</td>\n",
       "      <td>.</td>\n",
       "      <td>NaN</td>\n",
       "      <td>1</td>\n",
       "    </tr>\n",
       "    <tr>\n",
       "      <th>7157</th>\n",
       "      <td>H6204</td>\n",
       "      <td>2016</td>\n",
       "      <td>0.038</td>\n",
       "      <td>0</td>\n",
       "      <td>V</td>\n",
       "      <td>V</td>\n",
       "      <td>V</td>\n",
       "      <td>U</td>\n",
       "      <td>NaN</td>\n",
       "      <td>1</td>\n",
       "      <td>1992.000</td>\n",
       "      <td>.</td>\n",
       "      <td>NaN</td>\n",
       "      <td>0</td>\n",
       "    </tr>\n",
       "    <tr>\n",
       "      <th>7158</th>\n",
       "      <td>H6537</td>\n",
       "      <td>2013</td>\n",
       "      <td>1.000</td>\n",
       "      <td>0</td>\n",
       "      <td>V</td>\n",
       "      <td>V</td>\n",
       "      <td>V</td>\n",
       "      <td>U</td>\n",
       "      <td>NaN</td>\n",
       "      <td>1</td>\n",
       "      <td>1972.000</td>\n",
       "      <td>.</td>\n",
       "      <td>NaN</td>\n",
       "      <td>0</td>\n",
       "    </tr>\n",
       "    <tr>\n",
       "      <th>7159</th>\n",
       "      <td>H7470</td>\n",
       "      <td>2014</td>\n",
       "      <td>1.000</td>\n",
       "      <td>0</td>\n",
       "      <td>V</td>\n",
       "      <td>V</td>\n",
       "      <td>V</td>\n",
       "      <td>U</td>\n",
       "      <td>NaN</td>\n",
       "      <td>1</td>\n",
       "      <td>2004.000</td>\n",
       "      <td>.</td>\n",
       "      <td>NaN</td>\n",
       "      <td>0</td>\n",
       "    </tr>\n",
       "  </tbody>\n",
       "</table>\n",
       "</div>"
      ],
      "text/plain": [
       "     Customer Id  YearOfObservation  Insured_Period  Residential  \\\n",
       "7155       H5290               2012           1.000            1   \n",
       "7156       H5926               2013           1.000            0   \n",
       "7157       H6204               2016           0.038            0   \n",
       "7158       H6537               2013           1.000            0   \n",
       "7159       H7470               2014           1.000            0   \n",
       "\n",
       "     Building_Painted Building_Fenced Garden Settlement  Building Dimension  \\\n",
       "7155                V               V      V          U                 NaN   \n",
       "7156                V               V      V          U                 NaN   \n",
       "7157                V               V      V          U                 NaN   \n",
       "7158                V               V      V          U                 NaN   \n",
       "7159                V               V      V          U                 NaN   \n",
       "\n",
       "      Building_Type  Date_of_Occupancy NumberOfWindows Geo_Code  Claim  \n",
       "7155              1           2001.000               .      NaN      0  \n",
       "7156              2           1980.000               .      NaN      1  \n",
       "7157              1           1992.000               .      NaN      0  \n",
       "7158              1           1972.000               .      NaN      0  \n",
       "7159              1           2004.000               .      NaN      0  "
      ]
     },
     "execution_count": 183,
     "metadata": {},
     "output_type": "execute_result"
    }
   ],
   "source": [
    "# Print the last five rows of the dataset\n",
    "train_data.tail()"
   ]
  },
  {
   "cell_type": "code",
   "execution_count": 184,
   "id": "ec036952",
   "metadata": {},
   "outputs": [
    {
     "data": {
      "text/plain": [
       "(7160, 14)"
      ]
     },
     "execution_count": 184,
     "metadata": {},
     "output_type": "execute_result"
    }
   ],
   "source": [
    "train_data.shape"
   ]
  },
  {
   "cell_type": "code",
   "execution_count": 185,
   "id": "fbe14ccb",
   "metadata": {},
   "outputs": [
    {
     "name": "stdout",
     "output_type": "stream",
     "text": [
      " The banking  training dataset consist of 7160 rows and 14 columns\n"
     ]
    }
   ],
   "source": [
    "print(f\" The banking  training dataset consist of {train_data.shape[0]} rows and {train_data.shape[1]} columns\")"
   ]
  },
  {
   "cell_type": "code",
   "execution_count": 186,
   "id": "0e6ec4e1",
   "metadata": {},
   "outputs": [
    {
     "name": "stdout",
     "output_type": "stream",
     "text": [
      " The banking  testing dataset consist of 3047 rows and 12 columns\n"
     ]
    }
   ],
   "source": [
    "print(f\" The banking  testing dataset consist of {test_data.shape[0]} rows and {test_data.shape[1]} columns\")"
   ]
  },
  {
   "cell_type": "code",
   "execution_count": 187,
   "id": "7f022a53",
   "metadata": {},
   "outputs": [
    {
     "name": "stdout",
     "output_type": "stream",
     "text": [
      "<class 'pandas.core.frame.DataFrame'>\n",
      "RangeIndex: 7160 entries, 0 to 7159\n",
      "Data columns (total 14 columns):\n",
      " #   Column              Non-Null Count  Dtype  \n",
      "---  ------              --------------  -----  \n",
      " 0   Customer Id         7160 non-null   object \n",
      " 1   YearOfObservation   7160 non-null   int64  \n",
      " 2   Insured_Period      7160 non-null   float64\n",
      " 3   Residential         7160 non-null   int64  \n",
      " 4   Building_Painted    7160 non-null   object \n",
      " 5   Building_Fenced     7160 non-null   object \n",
      " 6   Garden              7153 non-null   object \n",
      " 7   Settlement          7160 non-null   object \n",
      " 8   Building Dimension  7054 non-null   float64\n",
      " 9   Building_Type       7160 non-null   int64  \n",
      " 10  Date_of_Occupancy   6652 non-null   float64\n",
      " 11  NumberOfWindows     7160 non-null   object \n",
      " 12  Geo_Code            7058 non-null   object \n",
      " 13  Claim               7160 non-null   int64  \n",
      "dtypes: float64(3), int64(4), object(7)\n",
      "memory usage: 783.2+ KB\n"
     ]
    }
   ],
   "source": [
    "# Code to display the dataset data types\n",
    "train_data.info()"
   ]
  },
  {
   "cell_type": "markdown",
   "id": "d1e3166a",
   "metadata": {},
   "source": [
    "### Observation:\n",
    "* The financial sector training dataset consist of 23524 rows and 13 columns. <br>\n",
    "* 3 of those columns are integer data types. <br>\n",
    "* 10(ten) are object data types. <br>\n",
    "*  memory usage is 2.3 MB(Megabytes)."
   ]
  },
  {
   "cell_type": "code",
   "execution_count": 188,
   "id": "bbad4a02",
   "metadata": {},
   "outputs": [],
   "source": [
    "## Drop the customer ID \n",
    "train_data=train_data.drop(columns=['Customer Id'],axis=1)"
   ]
  },
  {
   "cell_type": "code",
   "execution_count": 189,
   "id": "50d60234",
   "metadata": {},
   "outputs": [
    {
     "data": {
      "text/plain": [
       "(7160, 13)"
      ]
     },
     "execution_count": 189,
     "metadata": {},
     "output_type": "execute_result"
    }
   ],
   "source": [
    "# Now lets recheck the dimensions of the train dataset\n",
    "train_data.shape"
   ]
  },
  {
   "cell_type": "code",
   "execution_count": 190,
   "id": "5087379e",
   "metadata": {},
   "outputs": [
    {
     "data": {
      "text/html": [
       "<div>\n",
       "<style scoped>\n",
       "    .dataframe tbody tr th:only-of-type {\n",
       "        vertical-align: middle;\n",
       "    }\n",
       "\n",
       "    .dataframe tbody tr th {\n",
       "        vertical-align: top;\n",
       "    }\n",
       "\n",
       "    .dataframe thead th {\n",
       "        text-align: right;\n",
       "    }\n",
       "</style>\n",
       "<table border=\"1\" class=\"dataframe\">\n",
       "  <thead>\n",
       "    <tr style=\"text-align: right;\">\n",
       "      <th></th>\n",
       "      <th>count</th>\n",
       "      <th>mean</th>\n",
       "      <th>std</th>\n",
       "      <th>min</th>\n",
       "      <th>25%</th>\n",
       "      <th>50%</th>\n",
       "      <th>75%</th>\n",
       "      <th>max</th>\n",
       "    </tr>\n",
       "  </thead>\n",
       "  <tbody>\n",
       "    <tr>\n",
       "      <th>YearOfObservation</th>\n",
       "      <td>7160.000</td>\n",
       "      <td>2013.670</td>\n",
       "      <td>1.384</td>\n",
       "      <td>2012.000</td>\n",
       "      <td>2012.000</td>\n",
       "      <td>2013.000</td>\n",
       "      <td>2015.000</td>\n",
       "      <td>2016.000</td>\n",
       "    </tr>\n",
       "    <tr>\n",
       "      <th>Insured_Period</th>\n",
       "      <td>7160.000</td>\n",
       "      <td>0.910</td>\n",
       "      <td>0.240</td>\n",
       "      <td>0.000</td>\n",
       "      <td>0.997</td>\n",
       "      <td>1.000</td>\n",
       "      <td>1.000</td>\n",
       "      <td>1.000</td>\n",
       "    </tr>\n",
       "    <tr>\n",
       "      <th>Residential</th>\n",
       "      <td>7160.000</td>\n",
       "      <td>0.305</td>\n",
       "      <td>0.461</td>\n",
       "      <td>0.000</td>\n",
       "      <td>0.000</td>\n",
       "      <td>0.000</td>\n",
       "      <td>1.000</td>\n",
       "      <td>1.000</td>\n",
       "    </tr>\n",
       "    <tr>\n",
       "      <th>Building Dimension</th>\n",
       "      <td>7054.000</td>\n",
       "      <td>1883.728</td>\n",
       "      <td>2278.158</td>\n",
       "      <td>1.000</td>\n",
       "      <td>528.000</td>\n",
       "      <td>1083.000</td>\n",
       "      <td>2289.750</td>\n",
       "      <td>20940.000</td>\n",
       "    </tr>\n",
       "    <tr>\n",
       "      <th>Building_Type</th>\n",
       "      <td>7160.000</td>\n",
       "      <td>2.186</td>\n",
       "      <td>0.941</td>\n",
       "      <td>1.000</td>\n",
       "      <td>2.000</td>\n",
       "      <td>2.000</td>\n",
       "      <td>3.000</td>\n",
       "      <td>4.000</td>\n",
       "    </tr>\n",
       "    <tr>\n",
       "      <th>Date_of_Occupancy</th>\n",
       "      <td>6652.000</td>\n",
       "      <td>1964.456</td>\n",
       "      <td>36.002</td>\n",
       "      <td>1545.000</td>\n",
       "      <td>1960.000</td>\n",
       "      <td>1970.000</td>\n",
       "      <td>1980.000</td>\n",
       "      <td>2016.000</td>\n",
       "    </tr>\n",
       "    <tr>\n",
       "      <th>Claim</th>\n",
       "      <td>7160.000</td>\n",
       "      <td>0.228</td>\n",
       "      <td>0.420</td>\n",
       "      <td>0.000</td>\n",
       "      <td>0.000</td>\n",
       "      <td>0.000</td>\n",
       "      <td>0.000</td>\n",
       "      <td>1.000</td>\n",
       "    </tr>\n",
       "  </tbody>\n",
       "</table>\n",
       "</div>"
      ],
      "text/plain": [
       "                      count     mean      std      min      25%      50%  \\\n",
       "YearOfObservation  7160.000 2013.670    1.384 2012.000 2012.000 2013.000   \n",
       "Insured_Period     7160.000    0.910    0.240    0.000    0.997    1.000   \n",
       "Residential        7160.000    0.305    0.461    0.000    0.000    0.000   \n",
       "Building Dimension 7054.000 1883.728 2278.158    1.000  528.000 1083.000   \n",
       "Building_Type      7160.000    2.186    0.941    1.000    2.000    2.000   \n",
       "Date_of_Occupancy  6652.000 1964.456   36.002 1545.000 1960.000 1970.000   \n",
       "Claim              7160.000    0.228    0.420    0.000    0.000    0.000   \n",
       "\n",
       "                        75%       max  \n",
       "YearOfObservation  2015.000  2016.000  \n",
       "Insured_Period        1.000     1.000  \n",
       "Residential           1.000     1.000  \n",
       "Building Dimension 2289.750 20940.000  \n",
       "Building_Type         3.000     4.000  \n",
       "Date_of_Occupancy  1980.000  2016.000  \n",
       "Claim                 0.000     1.000  "
      ]
     },
     "execution_count": 190,
     "metadata": {},
     "output_type": "execute_result"
    }
   ],
   "source": [
    " # Code to print the statistical summary of the numerical columns in a  dataset\n",
    "train_data.describe().T  "
   ]
  },
  {
   "cell_type": "code",
   "execution_count": 191,
   "id": "2a422803",
   "metadata": {},
   "outputs": [
    {
     "data": {
      "text/plain": [
       "YearOfObservation       0\n",
       "Insured_Period          0\n",
       "Residential             0\n",
       "Building_Painted        0\n",
       "Building_Fenced         0\n",
       "Garden                  7\n",
       "Settlement              0\n",
       "Building Dimension    106\n",
       "Building_Type           0\n",
       "Date_of_Occupancy     508\n",
       "NumberOfWindows         0\n",
       "Geo_Code              102\n",
       "Claim                   0\n",
       "dtype: int64"
      ]
     },
     "execution_count": 191,
     "metadata": {},
     "output_type": "execute_result"
    }
   ],
   "source": [
    "# code to check for missing values in a dataset\n",
    "train_data.isnull().sum()"
   ]
  },
  {
   "cell_type": "code",
   "execution_count": 192,
   "id": "71836458",
   "metadata": {},
   "outputs": [
    {
     "name": "stdout",
     "output_type": "stream",
     "text": [
      "The training set consist of 723 missing values\n"
     ]
    }
   ],
   "source": [
    "print(f\"The training set consist of {train_data.isnull().sum().sum()} missing values\")"
   ]
  },
  {
   "cell_type": "code",
   "execution_count": 193,
   "id": "31a589f2",
   "metadata": {},
   "outputs": [],
   "source": [
    "## Replace the Number of Windows objects with zero and 10\n",
    "train_data['NumberOfWindows'] = train_data['NumberOfWindows'].astype(str).str.replace('   .',\"0\")\n",
    "train_data['NumberOfWindows'] = train_data['NumberOfWindows'].astype(str).str.replace('>=10',\"10\")\n",
    "## Now set the NumberOFWindows columns as an integer\n",
    "train_data['NumberOfWindows'] = train_data['NumberOfWindows'].astype(int)\n",
    "### Set the YearofObservation column as an object data type\n",
    "train_data['YearOfObservation'] = train_data['YearOfObservation'].astype(str)\n",
    "### Set the date of occupancy as an object column\n",
    "train_data['Date_of_Occupancy'] = train_data['Date_of_Occupancy'].astype(str)"
   ]
  },
  {
   "cell_type": "code",
   "execution_count": 194,
   "id": "0b5b3029",
   "metadata": {},
   "outputs": [
    {
     "name": "stdout",
     "output_type": "stream",
     "text": [
      "<class 'pandas.core.frame.DataFrame'>\n",
      "RangeIndex: 7160 entries, 0 to 7159\n",
      "Data columns (total 13 columns):\n",
      " #   Column              Non-Null Count  Dtype  \n",
      "---  ------              --------------  -----  \n",
      " 0   YearOfObservation   7160 non-null   object \n",
      " 1   Insured_Period      7160 non-null   float64\n",
      " 2   Residential         7160 non-null   int64  \n",
      " 3   Building_Painted    7160 non-null   object \n",
      " 4   Building_Fenced     7160 non-null   object \n",
      " 5   Garden              7153 non-null   object \n",
      " 6   Settlement          7160 non-null   object \n",
      " 7   Building Dimension  7054 non-null   float64\n",
      " 8   Building_Type       7160 non-null   int64  \n",
      " 9   Date_of_Occupancy   7160 non-null   object \n",
      " 10  NumberOfWindows     7160 non-null   int32  \n",
      " 11  Geo_Code            7058 non-null   object \n",
      " 12  Claim               7160 non-null   int64  \n",
      "dtypes: float64(2), int32(1), int64(3), object(7)\n",
      "memory usage: 699.3+ KB\n"
     ]
    }
   ],
   "source": [
    "train_data.info()"
   ]
  },
  {
   "cell_type": "code",
   "execution_count": 195,
   "id": "795163b0",
   "metadata": {},
   "outputs": [
    {
     "data": {
      "text/plain": [
       "12"
      ]
     },
     "execution_count": 195,
     "metadata": {},
     "output_type": "execute_result"
    }
   ],
   "source": [
    "# Code to check for duplicates in the dataset\n",
    "train_data.duplicated().sum()"
   ]
  },
  {
   "cell_type": "code",
   "execution_count": 196,
   "id": "bad20c8c",
   "metadata": {},
   "outputs": [],
   "source": [
    "train_data=train_data.drop_duplicates()"
   ]
  },
  {
   "cell_type": "code",
   "execution_count": 197,
   "id": "32835218",
   "metadata": {},
   "outputs": [
    {
     "data": {
      "text/plain": [
       "0"
      ]
     },
     "execution_count": 197,
     "metadata": {},
     "output_type": "execute_result"
    }
   ],
   "source": [
    "train_data.duplicated().sum()"
   ]
  },
  {
   "cell_type": "markdown",
   "id": "d4d3bbad",
   "metadata": {},
   "source": [
    "### Testing dataset"
   ]
  },
  {
   "cell_type": "code",
   "execution_count": 211,
   "id": "be65a296",
   "metadata": {},
   "outputs": [
    {
     "data": {
      "text/html": [
       "<div>\n",
       "<style scoped>\n",
       "    .dataframe tbody tr th:only-of-type {\n",
       "        vertical-align: middle;\n",
       "    }\n",
       "\n",
       "    .dataframe tbody tr th {\n",
       "        vertical-align: top;\n",
       "    }\n",
       "\n",
       "    .dataframe thead th {\n",
       "        text-align: right;\n",
       "    }\n",
       "</style>\n",
       "<table border=\"1\" class=\"dataframe\">\n",
       "  <thead>\n",
       "    <tr style=\"text-align: right;\">\n",
       "      <th></th>\n",
       "      <th>Customer Id</th>\n",
       "      <th>YearOfObservation</th>\n",
       "      <th>Insured_Period</th>\n",
       "      <th>Residential</th>\n",
       "      <th>Building_Painted</th>\n",
       "      <th>Building_Fenced</th>\n",
       "      <th>Garden</th>\n",
       "      <th>Settlement</th>\n",
       "      <th>Building Dimension</th>\n",
       "      <th>Building_Type</th>\n",
       "      <th>Date_of_Occupancy</th>\n",
       "      <th>NumberOfWindows</th>\n",
       "      <th>Geo_Code</th>\n",
       "    </tr>\n",
       "  </thead>\n",
       "  <tbody>\n",
       "    <tr>\n",
       "      <th>0</th>\n",
       "      <td>H11920</td>\n",
       "      <td>2013</td>\n",
       "      <td>1.000</td>\n",
       "      <td>0</td>\n",
       "      <td>V</td>\n",
       "      <td>N</td>\n",
       "      <td>O</td>\n",
       "      <td>R</td>\n",
       "      <td>300.000</td>\n",
       "      <td>1</td>\n",
       "      <td>1960.000</td>\n",
       "      <td>3</td>\n",
       "      <td>3310</td>\n",
       "    </tr>\n",
       "    <tr>\n",
       "      <th>1</th>\n",
       "      <td>H11921</td>\n",
       "      <td>2016</td>\n",
       "      <td>0.997</td>\n",
       "      <td>0</td>\n",
       "      <td>V</td>\n",
       "      <td>N</td>\n",
       "      <td>O</td>\n",
       "      <td>R</td>\n",
       "      <td>300.000</td>\n",
       "      <td>1</td>\n",
       "      <td>1960.000</td>\n",
       "      <td>3</td>\n",
       "      <td>3310</td>\n",
       "    </tr>\n",
       "    <tr>\n",
       "      <th>2</th>\n",
       "      <td>H9805</td>\n",
       "      <td>2013</td>\n",
       "      <td>0.370</td>\n",
       "      <td>0</td>\n",
       "      <td>V</td>\n",
       "      <td>V</td>\n",
       "      <td>V</td>\n",
       "      <td>U</td>\n",
       "      <td>790.000</td>\n",
       "      <td>1</td>\n",
       "      <td>1960.000</td>\n",
       "      <td>.</td>\n",
       "      <td>3310</td>\n",
       "    </tr>\n",
       "    <tr>\n",
       "      <th>3</th>\n",
       "      <td>H7493</td>\n",
       "      <td>2014</td>\n",
       "      <td>1.000</td>\n",
       "      <td>0</td>\n",
       "      <td>V</td>\n",
       "      <td>N</td>\n",
       "      <td>O</td>\n",
       "      <td>R</td>\n",
       "      <td>1405.000</td>\n",
       "      <td>1</td>\n",
       "      <td>2004.000</td>\n",
       "      <td>3</td>\n",
       "      <td>3321</td>\n",
       "    </tr>\n",
       "    <tr>\n",
       "      <th>4</th>\n",
       "      <td>H7494</td>\n",
       "      <td>2016</td>\n",
       "      <td>1.000</td>\n",
       "      <td>0</td>\n",
       "      <td>V</td>\n",
       "      <td>N</td>\n",
       "      <td>O</td>\n",
       "      <td>R</td>\n",
       "      <td>1405.000</td>\n",
       "      <td>1</td>\n",
       "      <td>2004.000</td>\n",
       "      <td>3</td>\n",
       "      <td>3321</td>\n",
       "    </tr>\n",
       "  </tbody>\n",
       "</table>\n",
       "</div>"
      ],
      "text/plain": [
       "  Customer Id  YearOfObservation  Insured_Period  Residential  \\\n",
       "0      H11920               2013           1.000            0   \n",
       "1      H11921               2016           0.997            0   \n",
       "2       H9805               2013           0.370            0   \n",
       "3       H7493               2014           1.000            0   \n",
       "4       H7494               2016           1.000            0   \n",
       "\n",
       "  Building_Painted Building_Fenced Garden Settlement  Building Dimension  \\\n",
       "0                V               N      O          R             300.000   \n",
       "1                V               N      O          R             300.000   \n",
       "2                V               V      V          U             790.000   \n",
       "3                V               N      O          R            1405.000   \n",
       "4                V               N      O          R            1405.000   \n",
       "\n",
       "   Building_Type  Date_of_Occupancy NumberOfWindows Geo_Code  \n",
       "0              1           1960.000               3     3310  \n",
       "1              1           1960.000               3     3310  \n",
       "2              1           1960.000               .     3310  \n",
       "3              1           2004.000               3     3321  \n",
       "4              1           2004.000               3     3321  "
      ]
     },
     "execution_count": 211,
     "metadata": {},
     "output_type": "execute_result"
    }
   ],
   "source": [
    "data_test.head()"
   ]
  },
  {
   "cell_type": "code",
   "execution_count": 212,
   "id": "45333fc2",
   "metadata": {},
   "outputs": [
    {
     "data": {
      "text/plain": [
       "(3069, 13)"
      ]
     },
     "execution_count": 212,
     "metadata": {},
     "output_type": "execute_result"
    }
   ],
   "source": [
    "data_test.shape"
   ]
  },
  {
   "cell_type": "code",
   "execution_count": 213,
   "id": "caa08e8e",
   "metadata": {},
   "outputs": [
    {
     "name": "stdout",
     "output_type": "stream",
     "text": [
      "<class 'pandas.core.frame.DataFrame'>\n",
      "RangeIndex: 3069 entries, 0 to 3068\n",
      "Data columns (total 13 columns):\n",
      " #   Column              Non-Null Count  Dtype  \n",
      "---  ------              --------------  -----  \n",
      " 0   Customer Id         3069 non-null   object \n",
      " 1   YearOfObservation   3069 non-null   int64  \n",
      " 2   Insured_Period      3069 non-null   float64\n",
      " 3   Residential         3069 non-null   int64  \n",
      " 4   Building_Painted    3069 non-null   object \n",
      " 5   Building_Fenced     3069 non-null   object \n",
      " 6   Garden              3065 non-null   object \n",
      " 7   Settlement          3069 non-null   object \n",
      " 8   Building Dimension  3056 non-null   float64\n",
      " 9   Building_Type       3069 non-null   int64  \n",
      " 10  Date_of_Occupancy   2341 non-null   float64\n",
      " 11  NumberOfWindows     3069 non-null   object \n",
      " 12  Geo_Code            3056 non-null   object \n",
      "dtypes: float64(3), int64(3), object(7)\n",
      "memory usage: 311.8+ KB\n"
     ]
    }
   ],
   "source": [
    "data_test.info()"
   ]
  },
  {
   "cell_type": "code",
   "execution_count": 214,
   "id": "17c32532",
   "metadata": {},
   "outputs": [],
   "source": [
    "test_data = data_test.copy()"
   ]
  },
  {
   "cell_type": "code",
   "execution_count": 215,
   "id": "aaeea76d",
   "metadata": {},
   "outputs": [
    {
     "name": "stdout",
     "output_type": "stream",
     "text": [
      " The banking  testing dataset consist of 3069 rows and 13 columns\n"
     ]
    }
   ],
   "source": [
    "print(f\" The banking  testing dataset consist of {test_data.shape[0]} rows and {test_data.shape[1]} columns\")"
   ]
  },
  {
   "cell_type": "code",
   "execution_count": 216,
   "id": "fa21c881",
   "metadata": {},
   "outputs": [],
   "source": [
    "## Drop the customer ID \n",
    "test_data=test_data.drop(columns=['Customer Id'],axis=1)"
   ]
  },
  {
   "cell_type": "code",
   "execution_count": 217,
   "id": "0092b7b0",
   "metadata": {},
   "outputs": [],
   "source": [
    "## Replace the Number of Windows objects with zero and 10\n",
    "test_data['NumberOfWindows'] = test_data['NumberOfWindows'].astype(str).str.replace('   .',\"0\")\n",
    "test_data['NumberOfWindows'] = test_data['NumberOfWindows'].astype(str).str.replace('>=10',\"10\")\n",
    "## Now set the NumberOFWindows columns as an integer\n",
    "test_data['NumberOfWindows'] = test_data['NumberOfWindows'].astype(int)\n",
    "### Set the YearofObservation column as an object data type\n",
    "test_data['YearOfObservation'] = test_data['YearOfObservation'].astype(str)\n",
    "### Set the date of occupancy as an object column\n",
    "test_data['Date_of_Occupancy'] = test_data['Date_of_Occupancy'].astype(str)"
   ]
  },
  {
   "cell_type": "code",
   "execution_count": 218,
   "id": "ac4533a3",
   "metadata": {},
   "outputs": [
    {
     "data": {
      "text/plain": [
       "(3069, 12)"
      ]
     },
     "execution_count": 218,
     "metadata": {},
     "output_type": "execute_result"
    }
   ],
   "source": [
    "test_data.shape"
   ]
  },
  {
   "cell_type": "code",
   "execution_count": 219,
   "id": "eb202cd5",
   "metadata": {},
   "outputs": [
    {
     "data": {
      "text/html": [
       "<div>\n",
       "<style scoped>\n",
       "    .dataframe tbody tr th:only-of-type {\n",
       "        vertical-align: middle;\n",
       "    }\n",
       "\n",
       "    .dataframe tbody tr th {\n",
       "        vertical-align: top;\n",
       "    }\n",
       "\n",
       "    .dataframe thead th {\n",
       "        text-align: right;\n",
       "    }\n",
       "</style>\n",
       "<table border=\"1\" class=\"dataframe\">\n",
       "  <thead>\n",
       "    <tr style=\"text-align: right;\">\n",
       "      <th></th>\n",
       "      <th>count</th>\n",
       "      <th>mean</th>\n",
       "      <th>std</th>\n",
       "      <th>min</th>\n",
       "      <th>25%</th>\n",
       "      <th>50%</th>\n",
       "      <th>75%</th>\n",
       "      <th>max</th>\n",
       "    </tr>\n",
       "  </thead>\n",
       "  <tbody>\n",
       "    <tr>\n",
       "      <th>Insured_Period</th>\n",
       "      <td>3069.000</td>\n",
       "      <td>0.923</td>\n",
       "      <td>0.219</td>\n",
       "      <td>0.000</td>\n",
       "      <td>1.000</td>\n",
       "      <td>1.000</td>\n",
       "      <td>1.000</td>\n",
       "      <td>1.000</td>\n",
       "    </tr>\n",
       "    <tr>\n",
       "      <th>Residential</th>\n",
       "      <td>3069.000</td>\n",
       "      <td>0.224</td>\n",
       "      <td>0.417</td>\n",
       "      <td>0.000</td>\n",
       "      <td>0.000</td>\n",
       "      <td>0.000</td>\n",
       "      <td>0.000</td>\n",
       "      <td>1.000</td>\n",
       "    </tr>\n",
       "    <tr>\n",
       "      <th>Building Dimension</th>\n",
       "      <td>3056.000</td>\n",
       "      <td>1666.791</td>\n",
       "      <td>2251.181</td>\n",
       "      <td>1.000</td>\n",
       "      <td>470.000</td>\n",
       "      <td>900.000</td>\n",
       "      <td>1957.000</td>\n",
       "      <td>30745.000</td>\n",
       "    </tr>\n",
       "    <tr>\n",
       "      <th>Building_Type</th>\n",
       "      <td>3069.000</td>\n",
       "      <td>2.359</td>\n",
       "      <td>0.998</td>\n",
       "      <td>1.000</td>\n",
       "      <td>2.000</td>\n",
       "      <td>2.000</td>\n",
       "      <td>3.000</td>\n",
       "      <td>4.000</td>\n",
       "    </tr>\n",
       "    <tr>\n",
       "      <th>NumberOfWindows</th>\n",
       "      <td>3069.000</td>\n",
       "      <td>1.165</td>\n",
       "      <td>2.121</td>\n",
       "      <td>0.000</td>\n",
       "      <td>0.000</td>\n",
       "      <td>0.000</td>\n",
       "      <td>2.000</td>\n",
       "      <td>10.000</td>\n",
       "    </tr>\n",
       "  </tbody>\n",
       "</table>\n",
       "</div>"
      ],
      "text/plain": [
       "                      count     mean      std   min     25%     50%      75%  \\\n",
       "Insured_Period     3069.000    0.923    0.219 0.000   1.000   1.000    1.000   \n",
       "Residential        3069.000    0.224    0.417 0.000   0.000   0.000    0.000   \n",
       "Building Dimension 3056.000 1666.791 2251.181 1.000 470.000 900.000 1957.000   \n",
       "Building_Type      3069.000    2.359    0.998 1.000   2.000   2.000    3.000   \n",
       "NumberOfWindows    3069.000    1.165    2.121 0.000   0.000   0.000    2.000   \n",
       "\n",
       "                         max  \n",
       "Insured_Period         1.000  \n",
       "Residential            1.000  \n",
       "Building Dimension 30745.000  \n",
       "Building_Type          4.000  \n",
       "NumberOfWindows       10.000  "
      ]
     },
     "execution_count": 219,
     "metadata": {},
     "output_type": "execute_result"
    }
   ],
   "source": [
    "# Code to print the statistical summary of the numerical columns in a  dataset\n",
    "test_data.describe().T  "
   ]
  },
  {
   "cell_type": "code",
   "execution_count": 220,
   "id": "fa4c58e7",
   "metadata": {},
   "outputs": [
    {
     "data": {
      "text/plain": [
       "22"
      ]
     },
     "execution_count": 220,
     "metadata": {},
     "output_type": "execute_result"
    }
   ],
   "source": [
    "# Code to check for duplicates in the dataset\n",
    "test_data.duplicated().sum()"
   ]
  },
  {
   "cell_type": "code",
   "execution_count": 221,
   "id": "c491398b",
   "metadata": {},
   "outputs": [
    {
     "name": "stdout",
     "output_type": "stream",
     "text": [
      "<class 'pandas.core.frame.DataFrame'>\n",
      "RangeIndex: 3069 entries, 0 to 3068\n",
      "Data columns (total 12 columns):\n",
      " #   Column              Non-Null Count  Dtype  \n",
      "---  ------              --------------  -----  \n",
      " 0   YearOfObservation   3069 non-null   object \n",
      " 1   Insured_Period      3069 non-null   float64\n",
      " 2   Residential         3069 non-null   int64  \n",
      " 3   Building_Painted    3069 non-null   object \n",
      " 4   Building_Fenced     3069 non-null   object \n",
      " 5   Garden              3065 non-null   object \n",
      " 6   Settlement          3069 non-null   object \n",
      " 7   Building Dimension  3056 non-null   float64\n",
      " 8   Building_Type       3069 non-null   int64  \n",
      " 9   Date_of_Occupancy   3069 non-null   object \n",
      " 10  NumberOfWindows     3069 non-null   int32  \n",
      " 11  Geo_Code            3056 non-null   object \n",
      "dtypes: float64(2), int32(1), int64(2), object(7)\n",
      "memory usage: 275.9+ KB\n"
     ]
    }
   ],
   "source": [
    "test_data.info()"
   ]
  },
  {
   "cell_type": "markdown",
   "id": "9c7ec9ee",
   "metadata": {},
   "source": [
    "# Exploratory data analysis(EDA)"
   ]
  },
  {
   "cell_type": "code",
   "execution_count": 222,
   "id": "de4fb960",
   "metadata": {},
   "outputs": [],
   "source": [
    " # Code to make a copy of the original  train dataset\n",
    "data = train_data.copy() "
   ]
  },
  {
   "cell_type": "code",
   "execution_count": 223,
   "id": "d07e1d7d",
   "metadata": {},
   "outputs": [
    {
     "data": {
      "text/plain": [
       "(7148, 13)"
      ]
     },
     "execution_count": 223,
     "metadata": {},
     "output_type": "execute_result"
    }
   ],
   "source": [
    "data.shape"
   ]
  },
  {
   "cell_type": "markdown",
   "id": "43016284",
   "metadata": {},
   "source": [
    "## Univariate data analysis"
   ]
  },
  {
   "cell_type": "markdown",
   "id": "16d148d4",
   "metadata": {},
   "source": [
    "### Numerical data"
   ]
  },
  {
   "cell_type": "code",
   "execution_count": 224,
   "id": "555d837a",
   "metadata": {},
   "outputs": [],
   "source": [
    "# Select numerical colums from the dataset\n",
    "numerical_columns =data.select_dtypes(\"number\").columns"
   ]
  },
  {
   "cell_type": "code",
   "execution_count": 225,
   "id": "304ad3df",
   "metadata": {},
   "outputs": [],
   "source": [
    "### Code to create a function to display histogram and boxplot for numerical dataset\n",
    "def box_histplot(data,item):\n",
    "    \n",
    "    plt.figure(figsize=(15,5))  # increase the size of the plot\n",
    "    plt.title(f\"Histogram for {item}\")      # Give the graph a title\n",
    "    plt.xlabel(item)  # change the label on the x-axis\n",
    "    plt.ylabel(\"frequency\")  # change the label on the y-axis\n",
    "    sns.histplot(data=data,x=item,kde=False);  # histogram for numerical dataset\n",
    "    plt.axvline(data[item].mean(),color=\"black\",linestyle=\"--\")\n",
    "    plt.axvline(data[item].median(),color=\"red\",linestyle=\"-\")\n",
    "    plt.show()\n",
    "    plt.figure(figsize=(15,5))  # increase the size of the plot\n",
    "    plt.title(f\"Boxplot for {item}\")          # Give the plot a suitable title\n",
    "    sns.boxplot(data=data,x=item,showmeans=True);  # Boxplot for numerical dataset\n",
    "    plt.xlabel(item)                     # change the label on the x-axis\n",
    "    plt.show()"
   ]
  },
  {
   "cell_type": "code",
   "execution_count": null,
   "id": "e1c26c9c",
   "metadata": {},
   "outputs": [],
   "source": [
    "# Code the call the function to display the histogram and boxplots for numericl columns\n",
    "for item in data[numerical_columns]:\n",
    "    box_histplot(data,item)"
   ]
  },
  {
   "cell_type": "markdown",
   "id": "f6b6c038",
   "metadata": {},
   "source": [
    "## Categorical data analysis:"
   ]
  },
  {
   "cell_type": "code",
   "execution_count": 32,
   "id": "096a615b",
   "metadata": {},
   "outputs": [],
   "source": [
    "# Code to select categorical columns\n",
    "categorical_data = data.select_dtypes(\"object\").columns  "
   ]
  },
  {
   "cell_type": "code",
   "execution_count": 33,
   "id": "4a951bd6",
   "metadata": {},
   "outputs": [
    {
     "data": {
      "text/plain": [
       "Index(['YearOfObservation', 'Building_Painted', 'Building_Fenced', 'Garden',\n",
       "       'Settlement', 'Date_of_Occupancy', 'Geo_Code'],\n",
       "      dtype='object')"
      ]
     },
     "execution_count": 33,
     "metadata": {},
     "output_type": "execute_result"
    }
   ],
   "source": [
    "categorical_data"
   ]
  },
  {
   "cell_type": "code",
   "execution_count": 34,
   "id": "2169e7d7",
   "metadata": {},
   "outputs": [],
   "source": [
    "## Create a function to display the bar graphs for categorical data columns\n",
    "def count_plot(data,item):\n",
    "    plt.figure(figsize=(5,4))  # increase the size of the plot\n",
    "    sns.countplot(data=data , x=item); # countplot for categorical columns\n",
    "    plt.title(f\"Countplot for {item}\")  # add the title on the countplot\n",
    "    plt.ylabel(\"frequency\")    # add the label on the y-axis\n",
    "    plt.xticks(rotation=90) \n",
    "    plt.show()"
   ]
  },
  {
   "cell_type": "code",
   "execution_count": 35,
   "id": "83ae2556",
   "metadata": {},
   "outputs": [
    {
     "data": {
      "image/png": "[encoded data removed]",
      "text/plain": [
       "<Figure size 500x400 with 1 Axes>"
      ]
     },
     "metadata": {},
     "output_type": "display_data"
    }
   ],
   "source": [
    "# Print the countplot for attrition\n",
    "count_plot(data,'Building_Painted')"
   ]
  },
  {
   "cell_type": "code",
   "execution_count": 36,
   "id": "fa49348e",
   "metadata": {},
   "outputs": [
    {
     "data": {
      "text/plain": [
       "Building_Painted\n",
       "V   0.752\n",
       "N   0.248\n",
       "Name: proportion, dtype: float64"
      ]
     },
     "execution_count": 36,
     "metadata": {},
     "output_type": "execute_result"
    }
   ],
   "source": [
    "data['Building_Painted'].value_counts(normalize=True)"
   ]
  },
  {
   "cell_type": "code",
   "execution_count": 37,
   "id": "f18bb28a",
   "metadata": {},
   "outputs": [
    {
     "data": {
      "image/png": "[encoded data removed]",
      "text/plain": [
       "<Figure size 400x500 with 1 Axes>"
      ]
     },
     "metadata": {},
     "output_type": "display_data"
    }
   ],
   "source": [
    "# Create a pie chart to show the percentage for Business Travel \n",
    "plt.figure(figsize=(4,5))\n",
    "values = data['Building_Painted'].value_counts() /data.shape[0]\n",
    "plt.pie(values,labels=values.keys(),autopct=\"%1.1f%%\",shadow=True)\n",
    "plt.show()"
   ]
  },
  {
   "cell_type": "markdown",
   "id": "3406b9d0",
   "metadata": {},
   "source": [
    "### Observation\n",
    "About 86% of the banking data indicate that individuals have no banking accounts whereas 14% does have a bank account."
   ]
  },
  {
   "cell_type": "code",
   "execution_count": 38,
   "id": "f1899b89",
   "metadata": {},
   "outputs": [
    {
     "data": {
      "image/png": "[encoded data removed]",
      "text/plain": [
       "<Figure size 500x400 with 1 Axes>"
      ]
     },
     "metadata": {},
     "output_type": "display_data"
    }
   ],
   "source": [
    "# Print the countplot for loaction types\n",
    "count_plot(data,'Building_Fenced')"
   ]
  },
  {
   "cell_type": "code",
   "execution_count": 39,
   "id": "4d449fe0",
   "metadata": {},
   "outputs": [
    {
     "data": {
      "text/plain": [
       "Building_Fenced\n",
       "N   0.504\n",
       "V   0.496\n",
       "Name: proportion, dtype: float64"
      ]
     },
     "execution_count": 39,
     "metadata": {},
     "output_type": "execute_result"
    }
   ],
   "source": [
    "data['Building_Fenced'].value_counts(normalize=True)"
   ]
  },
  {
   "cell_type": "code",
   "execution_count": 40,
   "id": "390c7b1d",
   "metadata": {},
   "outputs": [
    {
     "data": {
      "image/png": "[encoded data removed]",
      "text/plain": [
       "<Figure size 400x500 with 1 Axes>"
      ]
     },
     "metadata": {},
     "output_type": "display_data"
    }
   ],
   "source": [
    "# Create a pie chart to show the percentage for Business Travel \n",
    "plt.figure(figsize=(4,5))\n",
    "values = data['Building_Fenced'].value_counts() /data.shape[0]\n",
    "plt.pie(values,labels=values.keys(),autopct=\"%1.1f%%\",shadow=True)\n",
    "plt.show()"
   ]
  },
  {
   "cell_type": "markdown",
   "id": "15334291",
   "metadata": {},
   "source": [
    "### Observation\n",
    "About 61% of the respondent are from rural areas. <br>\n",
    "39% are from Urban areas"
   ]
  },
  {
   "cell_type": "code",
   "execution_count": 41,
   "id": "54a0bdae",
   "metadata": {},
   "outputs": [
    {
     "data": {
      "image/png": "[encoded data removed]",
      "text/plain": [
       "<Figure size 500x400 with 1 Axes>"
      ]
     },
     "metadata": {},
     "output_type": "display_data"
    }
   ],
   "source": [
    "# Print the countplot gender\n",
    "count_plot(data,'Garden')"
   ]
  },
  {
   "cell_type": "code",
   "execution_count": 42,
   "id": "ff2ba3e5",
   "metadata": {},
   "outputs": [
    {
     "data": {
      "image/png": "[encoded data removed]",
      "text/plain": [
       "<Figure size 400x500 with 1 Axes>"
      ]
     },
     "metadata": {},
     "output_type": "display_data"
    }
   ],
   "source": [
    "# Create a pie chart to show the percentage for Department \n",
    "plt.figure(figsize=(4,5))\n",
    "values = data['Garden'].value_counts() /data.shape[0]\n",
    "plt.pie(values,labels=values.keys(),autopct=\"%1.1f%%\",shadow=True)\n",
    "plt.show()"
   ]
  },
  {
   "cell_type": "code",
   "execution_count": 43,
   "id": "2eb0c19f",
   "metadata": {},
   "outputs": [
    {
     "data": {
      "image/png": "[encoded data removed]",
      "text/plain": [
       "<Figure size 500x400 with 1 Axes>"
      ]
     },
     "metadata": {},
     "output_type": "display_data"
    }
   ],
   "source": [
    "# Print the countplot for education field for employees\n",
    "count_plot(data,'Settlement')"
   ]
  },
  {
   "cell_type": "code",
   "execution_count": 44,
   "id": "67855db0",
   "metadata": {},
   "outputs": [
    {
     "data": {
      "text/plain": [
       "Settlement\n",
       "R   0.505\n",
       "U   0.495\n",
       "Name: proportion, dtype: float64"
      ]
     },
     "execution_count": 44,
     "metadata": {},
     "output_type": "execute_result"
    }
   ],
   "source": [
    "data['Settlement'].value_counts(normalize=True)"
   ]
  },
  {
   "cell_type": "code",
   "execution_count": 45,
   "id": "15dfd61a",
   "metadata": {},
   "outputs": [
    {
     "data": {
      "image/png": "[encoded data removed]",
      "text/plain": [
       "<Figure size 400x500 with 1 Axes>"
      ]
     },
     "metadata": {},
     "output_type": "display_data"
    }
   ],
   "source": [
    "# Create a pie chart to show the percentage for Educational field \n",
    "plt.figure(figsize=(4,5))\n",
    "values = data['Settlement'].value_counts()/data.shape[0]\n",
    "plt.pie(values,labels=values.keys(),autopct=\"%1.1f%%\",shadow=True)\n",
    "plt.show()"
   ]
  },
  {
   "cell_type": "markdown",
   "id": "8c957580",
   "metadata": {},
   "source": [
    "## Bivariate data analysis:"
   ]
  },
  {
   "cell_type": "markdown",
   "id": "a06d0f75",
   "metadata": {},
   "source": [
    "#### Categorical and Numerical data analysis"
   ]
  },
  {
   "cell_type": "code",
   "execution_count": null,
   "id": "9b4d51f3",
   "metadata": {},
   "outputs": [],
   "source": [
    "## Create a function to display boxplots for numerical and categorical dataset\n",
    "def box_plot(data,item_1,categorical_item):\n",
    "    plt.figure(figsize=(15,7))  # Increase the size of the plot\n",
    "    sns.boxplot(data=data,x = item_1, y = categorical_item, palette = \"Paired_r\") \n",
    "    plt.title(f\"The boxplot for {item_1} relative to {categorical_item}\")\n",
    "    plt.xlabel(item_1)\n",
    "    plt.ylabel(categorical_item)\n",
    "    plt.show()"
   ]
  },
  {
   "cell_type": "code",
   "execution_count": null,
   "id": "3a844957",
   "metadata": {},
   "outputs": [],
   "source": [
    "# Boxplot for Age relative to bank account \n",
    "box_plot(data,\"Claim\",\"Garden\")"
   ]
  },
  {
   "cell_type": "code",
   "execution_count": null,
   "id": "40e7ce44",
   "metadata": {},
   "outputs": [],
   "source": [
    "train_data.columns"
   ]
  },
  {
   "cell_type": "markdown",
   "id": "96a9c194",
   "metadata": {},
   "source": [
    "### Observation:\n"
   ]
  },
  {
   "cell_type": "code",
   "execution_count": null,
   "id": "cc0aa499",
   "metadata": {},
   "outputs": [],
   "source": [
    "# Boxplot for Age relative to gender\n",
    "box_plot(data,\"Claim\",\"Building_Fenced\")"
   ]
  },
  {
   "cell_type": "markdown",
   "id": "a103bc47",
   "metadata": {},
   "source": [
    "### Observation:\n",
    "The monthly income data relative to gender is skewed to the right with outliers on the right side of the whisker. <br>\n",
    "However the average monthly income for females is higher than those of the males.<br>\n",
    "75% of the females employees earn a monthly income of roughly 8750 dollar and above, which is higher than that of males.<br>\n",
    "These means that females employees in the organisation earns more than males"
   ]
  },
  {
   "cell_type": "code",
   "execution_count": null,
   "id": "e355c608",
   "metadata": {},
   "outputs": [],
   "source": [
    "# Boxplot for Age relative to job type\n",
    "box_plot(data,\"Claim\",'Building_Painted')"
   ]
  },
  {
   "cell_type": "code",
   "execution_count": null,
   "id": "cf96d644",
   "metadata": {},
   "outputs": [],
   "source": [
    "# Boxplot for Age relative to Education level.\n",
    "box_plot(data,\"Age\",\"Education_level\")"
   ]
  },
  {
   "cell_type": "code",
   "execution_count": null,
   "id": "96da50af",
   "metadata": {},
   "outputs": [],
   "source": [
    "# Boxplot for Age relative to marital status.\n",
    "box_plot(data,\"Age\",\"Status\")"
   ]
  },
  {
   "cell_type": "code",
   "execution_count": null,
   "id": "b5477ee0",
   "metadata": {},
   "outputs": [],
   "source": [
    "# Boxplot for Age relative to country.\n",
    "box_plot(data,\"Age\",\"Country\")"
   ]
  },
  {
   "cell_type": "code",
   "execution_count": null,
   "id": "8e360585",
   "metadata": {},
   "outputs": [],
   "source": [
    "# Boxplot for Age relative to relationship.\n",
    "box_plot(data,\"Age\",\"Relationship\")"
   ]
  },
  {
   "cell_type": "code",
   "execution_count": null,
   "id": "0a180579",
   "metadata": {},
   "outputs": [],
   "source": [
    "# Boxplot for Age relative to cellphone access.\n",
    "box_plot(data,\"Age\",\"Cellphone_access\")"
   ]
  },
  {
   "cell_type": "code",
   "execution_count": null,
   "id": "d65f6aa6",
   "metadata": {},
   "outputs": [],
   "source": [
    "# Boxplot for Age relative to Education level.\n",
    "box_plot(data,\"Age\",\"Education_level\")"
   ]
  },
  {
   "cell_type": "code",
   "execution_count": null,
   "id": "663b7226",
   "metadata": {},
   "outputs": [],
   "source": [
    "# Boxplot for size relative to bank account.\n",
    "box_plot(data,\"Size\",\"Bank_account\")"
   ]
  },
  {
   "cell_type": "code",
   "execution_count": null,
   "id": "95010288",
   "metadata": {},
   "outputs": [],
   "source": [
    "# Boxplot for size relative to gender.\n",
    "box_plot(data,\"Size\",\"Gender\")"
   ]
  },
  {
   "cell_type": "code",
   "execution_count": null,
   "id": "a1e9241d",
   "metadata": {},
   "outputs": [],
   "source": [
    "# Boxplot for size relative to country.\n",
    "box_plot(data,\"Size\",\"Country\")"
   ]
  },
  {
   "cell_type": "code",
   "execution_count": null,
   "id": "f5fefdae",
   "metadata": {},
   "outputs": [],
   "source": [
    "# Boxplot for size relative to status\n",
    "box_plot(data,\"Size\",\"Status\")"
   ]
  },
  {
   "cell_type": "markdown",
   "id": "7c402318",
   "metadata": {},
   "source": [
    "### Observation:\n",
    "On average sales employees earns higher monthly income as compared to those working in  R&D and Human resources."
   ]
  },
  {
   "cell_type": "code",
   "execution_count": null,
   "id": "cc31ddc9",
   "metadata": {},
   "outputs": [],
   "source": [
    "# Code to print the boxplot for numerical columns relative to categorical data\n",
    "for variable in numerical_columns:\n",
    "    box_plot(data,variable,categorical_data[0])"
   ]
  },
  {
   "cell_type": "markdown",
   "id": "baa23ae3",
   "metadata": {},
   "source": [
    "### Categorical data analysis only"
   ]
  },
  {
   "cell_type": "code",
   "execution_count": null,
   "id": "bf33978d",
   "metadata": {},
   "outputs": [],
   "source": [
    "## Create a function to display a countplot for bivariate categorical columns relatives to churn data\n",
    "def bivariate_plot(data,item_1,item_2,color):\n",
    "    plt.figure(figsize=(10,7))\n",
    "    sns.countplot(x=item_1,data=data,palette=color,hue=item_2)\n",
    "    plt.ylabel(\"frequency\")\n",
    "    plt.xticks(rotation=90)\n",
    "    plt.show()"
   ]
  },
  {
   "cell_type": "code",
   "execution_count": null,
   "id": "a79334ed",
   "metadata": {},
   "outputs": [],
   "source": [
    "bivariate_plot(data,\"Bank_account\",\"Gender\",color=\"YlGnBu\")"
   ]
  },
  {
   "cell_type": "code",
   "execution_count": null,
   "id": "edd2be22",
   "metadata": {},
   "outputs": [],
   "source": [
    "round(data.groupby(\"Bank_account\")[\"Gender\"].value_counts(normalize=True),3)*100 "
   ]
  },
  {
   "cell_type": "code",
   "execution_count": null,
   "id": "5cd218cc",
   "metadata": {},
   "outputs": [],
   "source": [
    "bivariate_plot(data,\"Bank_account\",\"Country\",color=\"terrain\")"
   ]
  },
  {
   "cell_type": "code",
   "execution_count": null,
   "id": "9f541d4e",
   "metadata": {},
   "outputs": [],
   "source": [
    "round(data.groupby(\"Country\")[\"Bank_account\"].value_counts(normalize=True),3)*100 "
   ]
  },
  {
   "cell_type": "code",
   "execution_count": null,
   "id": "18fe20bb",
   "metadata": {},
   "outputs": [],
   "source": [
    "bivariate_plot(data,\"Bank_account\",\"Location_type\",color=\"rainbow\")"
   ]
  },
  {
   "cell_type": "code",
   "execution_count": null,
   "id": "8f267af6",
   "metadata": {},
   "outputs": [],
   "source": [
    "round(data.groupby(\"Bank_account\")[\"Job_type\"].value_counts(normalize=True),3)*100 "
   ]
  },
  {
   "cell_type": "code",
   "execution_count": null,
   "id": "8fffa4ae",
   "metadata": {},
   "outputs": [],
   "source": [
    "bivariate_plot(data,\"Education_level\",\"Bank_account\",color=\"Purples_r\")"
   ]
  },
  {
   "cell_type": "code",
   "execution_count": null,
   "id": "0ea31cd6",
   "metadata": {},
   "outputs": [],
   "source": [
    "round(data.groupby(\"Bank_account\")[\"Education_level\"].value_counts(normalize=True),3)*100 "
   ]
  },
  {
   "cell_type": "code",
   "execution_count": null,
   "id": "bd60cf8d",
   "metadata": {},
   "outputs": [],
   "source": [
    "bivariate_plot(data,\"Status\",\"Bank_account\",color=\"Spectral\")"
   ]
  },
  {
   "cell_type": "markdown",
   "id": "418b6edc",
   "metadata": {},
   "source": [
    "### Numerical data"
   ]
  },
  {
   "cell_type": "code",
   "execution_count": 46,
   "id": "6ab2997c",
   "metadata": {},
   "outputs": [
    {
     "data": {
      "image/png": "[encoded data removed]",
      "text/plain": [
       "<Figure size 2000x2000 with 2 Axes>"
      ]
     },
     "metadata": {},
     "output_type": "display_data"
    }
   ],
   "source": [
    "## Construct a correlation matrix\n",
    "plt.figure(figsize=(20, 20))\n",
    "sns.heatmap(data[numerical_columns].corr(), annot=True, vmin=-1, vmax=1, fmt=\".2f\", cmap=\"Spectral\")\n",
    "plt.show()"
   ]
  },
  {
   "cell_type": "markdown",
   "id": "76527c9e",
   "metadata": {},
   "source": [
    "## Observation:\n",
    "* Most  of the independent variables are uncorrelated to each other, except for few variables.\n",
    "* There is a very strong positive correlation between monthly income and job level. <br>\n",
    "* There is a strong positive correlation between job level and total working years. <br>\n",
    "* The job level,monthly income,Age and total working years are positively correlated to yearATCompany,YearsincurrentRole,YearsinceLastPromotion and YearswithcurrManager. <br>\n",
    "* Age and total working years shows a positive correlation."
   ]
  },
  {
   "cell_type": "code",
   "execution_count": 226,
   "id": "15f07e91",
   "metadata": {},
   "outputs": [],
   "source": [
    "### Select columns that are highly correlated\n",
    "def correlation(data,cut_off):\n",
    "    col_corr = set()\n",
    "    corr_matrix = data.corr()\n",
    "    for i in range(len(corr_matrix.columns)):\n",
    "        for j in range(i):\n",
    "            if abs(corr_matrix.iloc[i,j])> cut_off:\n",
    "                colname = corr_matrix.columns[i]\n",
    "                col_corr.add(colname)\n",
    "    return col_corr"
   ]
  },
  {
   "cell_type": "code",
   "execution_count": 227,
   "id": "886cf903",
   "metadata": {},
   "outputs": [],
   "source": [
    "numerical_columns= data.select_dtypes(\"number\").columns"
   ]
  },
  {
   "cell_type": "code",
   "execution_count": 228,
   "id": "cb0145ac",
   "metadata": {},
   "outputs": [
    {
     "name": "stdout",
     "output_type": "stream",
     "text": [
      "set()\n"
     ]
    }
   ],
   "source": [
    "### Now lets display the highly correlated columns\n",
    "feature = correlation(data[numerical_columns],0.7)\n",
    "print(feature)"
   ]
  },
  {
   "cell_type": "markdown",
   "id": "17d00067",
   "metadata": {},
   "source": [
    "## Data preprocessing"
   ]
  },
  {
   "cell_type": "markdown",
   "id": "e232dd3f",
   "metadata": {},
   "source": [
    "### Feature engineering"
   ]
  },
  {
   "cell_type": "markdown",
   "id": "4f4a6a9b",
   "metadata": {},
   "source": [
    "#### OUTLIER DETECTION AND TREATMENT"
   ]
  },
  {
   "cell_type": "code",
   "execution_count": 52,
   "id": "4633a357",
   "metadata": {},
   "outputs": [
    {
     "data": {
      "image/png": "[encoded data removed]",
      "text/plain": [
       "<Figure size 1500x1200 with 6 Axes>"
      ]
     },
     "metadata": {},
     "output_type": "display_data"
    }
   ],
   "source": [
    "plt.figure(figsize=(15, 12))\n",
    "for i, variable in enumerate(numerical_columns):\n",
    "    plt.subplot(4,7, i + 1)\n",
    "    plt.boxplot(data[variable], whis=1.5)\n",
    "    plt.tight_layout()\n",
    "    plt.title(variable)\n",
    "plt.show()"
   ]
  },
  {
   "cell_type": "markdown",
   "id": "71e928c9",
   "metadata": {},
   "source": [
    "### Data Preparation:"
   ]
  },
  {
   "cell_type": "markdown",
   "id": "84f2c756",
   "metadata": {},
   "source": [
    "#### Convert categorical  to numerical variables"
   ]
  },
  {
   "cell_type": "code",
   "execution_count": 229,
   "id": "a8775d4e",
   "metadata": {},
   "outputs": [],
   "source": [
    "data1 = data.copy()"
   ]
  },
  {
   "cell_type": "code",
   "execution_count": null,
   "id": "a01f736c",
   "metadata": {},
   "outputs": [],
   "source": [
    "## Select categorical columns in the train dataset\n",
    "categorical_columns_train = data1.select_dtypes(\"object\").columns "
   ]
  },
  {
   "cell_type": "code",
   "execution_count": null,
   "id": "940a1214",
   "metadata": {},
   "outputs": [],
   "source": [
    "categorical_columns_train"
   ]
  },
  {
   "cell_type": "code",
   "execution_count": null,
   "id": "b3ade78b",
   "metadata": {},
   "outputs": [],
   "source": [
    "# first create dummy variables for categorical data by dropping one of the columns in the training data\n",
    "for variable in categorical_columns_train:\n",
    "    \n",
    "       data1[variable] = pd.factorize(data1[variable])[0]  "
   ]
  },
  {
   "cell_type": "code",
   "execution_count": null,
   "id": "157da844",
   "metadata": {},
   "outputs": [],
   "source": [
    "data1.head()"
   ]
  },
  {
   "cell_type": "code",
   "execution_count": null,
   "id": "e57ee825",
   "metadata": {},
   "outputs": [],
   "source": [
    "data1.shape"
   ]
  },
  {
   "cell_type": "code",
   "execution_count": 230,
   "id": "41117ee1",
   "metadata": {},
   "outputs": [
    {
     "data": {
      "text/plain": [
       "Claim\n",
       "0    5516\n",
       "1    1632\n",
       "Name: count, dtype: int64"
      ]
     },
     "execution_count": 230,
     "metadata": {},
     "output_type": "execute_result"
    }
   ],
   "source": [
    "## Count the number of units in the banking account columns\n",
    "data1[\"Claim\"].value_counts()"
   ]
  },
  {
   "cell_type": "markdown",
   "id": "d2be44c3",
   "metadata": {},
   "source": [
    "### Observation:\n",
    "The insurance dataset contain unbalanced claims data."
   ]
  },
  {
   "cell_type": "markdown",
   "id": "ce4c79de",
   "metadata": {},
   "source": [
    "### Split the data into train and test sets"
   ]
  },
  {
   "cell_type": "code",
   "execution_count": 231,
   "id": "9d9a68ab",
   "metadata": {},
   "outputs": [],
   "source": [
    "X = data1.drop([\"Claim\"], axis=1)\n",
    "y = data1[\"Claim\"]"
   ]
  },
  {
   "cell_type": "code",
   "execution_count": 232,
   "id": "1333e6e9",
   "metadata": {},
   "outputs": [
    {
     "data": {
      "text/plain": [
       "(7148, 12)"
      ]
     },
     "execution_count": 232,
     "metadata": {},
     "output_type": "execute_result"
    }
   ],
   "source": [
    "X.shape"
   ]
  },
  {
   "cell_type": "code",
   "execution_count": 233,
   "id": "5b58799b",
   "metadata": {},
   "outputs": [
    {
     "data": {
      "text/html": [
       "<div>\n",
       "<style scoped>\n",
       "    .dataframe tbody tr th:only-of-type {\n",
       "        vertical-align: middle;\n",
       "    }\n",
       "\n",
       "    .dataframe tbody tr th {\n",
       "        vertical-align: top;\n",
       "    }\n",
       "\n",
       "    .dataframe thead th {\n",
       "        text-align: right;\n",
       "    }\n",
       "</style>\n",
       "<table border=\"1\" class=\"dataframe\">\n",
       "  <thead>\n",
       "    <tr style=\"text-align: right;\">\n",
       "      <th></th>\n",
       "      <th>YearOfObservation</th>\n",
       "      <th>Insured_Period</th>\n",
       "      <th>Residential</th>\n",
       "      <th>Building_Painted</th>\n",
       "      <th>Building_Fenced</th>\n",
       "      <th>Garden</th>\n",
       "      <th>Settlement</th>\n",
       "      <th>Building Dimension</th>\n",
       "      <th>Building_Type</th>\n",
       "      <th>Date_of_Occupancy</th>\n",
       "      <th>NumberOfWindows</th>\n",
       "      <th>Geo_Code</th>\n",
       "    </tr>\n",
       "  </thead>\n",
       "  <tbody>\n",
       "    <tr>\n",
       "      <th>0</th>\n",
       "      <td>2013</td>\n",
       "      <td>1.000</td>\n",
       "      <td>0</td>\n",
       "      <td>N</td>\n",
       "      <td>V</td>\n",
       "      <td>V</td>\n",
       "      <td>U</td>\n",
       "      <td>290.000</td>\n",
       "      <td>1</td>\n",
       "      <td>1960.0</td>\n",
       "      <td>0</td>\n",
       "      <td>1053</td>\n",
       "    </tr>\n",
       "    <tr>\n",
       "      <th>1</th>\n",
       "      <td>2015</td>\n",
       "      <td>1.000</td>\n",
       "      <td>0</td>\n",
       "      <td>V</td>\n",
       "      <td>N</td>\n",
       "      <td>O</td>\n",
       "      <td>R</td>\n",
       "      <td>490.000</td>\n",
       "      <td>1</td>\n",
       "      <td>1850.0</td>\n",
       "      <td>4</td>\n",
       "      <td>1053</td>\n",
       "    </tr>\n",
       "    <tr>\n",
       "      <th>2</th>\n",
       "      <td>2014</td>\n",
       "      <td>1.000</td>\n",
       "      <td>0</td>\n",
       "      <td>N</td>\n",
       "      <td>V</td>\n",
       "      <td>V</td>\n",
       "      <td>U</td>\n",
       "      <td>595.000</td>\n",
       "      <td>1</td>\n",
       "      <td>1960.0</td>\n",
       "      <td>0</td>\n",
       "      <td>1053</td>\n",
       "    </tr>\n",
       "    <tr>\n",
       "      <th>3</th>\n",
       "      <td>2013</td>\n",
       "      <td>1.000</td>\n",
       "      <td>0</td>\n",
       "      <td>V</td>\n",
       "      <td>V</td>\n",
       "      <td>V</td>\n",
       "      <td>U</td>\n",
       "      <td>2840.000</td>\n",
       "      <td>1</td>\n",
       "      <td>1960.0</td>\n",
       "      <td>0</td>\n",
       "      <td>1053</td>\n",
       "    </tr>\n",
       "    <tr>\n",
       "      <th>4</th>\n",
       "      <td>2014</td>\n",
       "      <td>1.000</td>\n",
       "      <td>0</td>\n",
       "      <td>V</td>\n",
       "      <td>N</td>\n",
       "      <td>O</td>\n",
       "      <td>R</td>\n",
       "      <td>680.000</td>\n",
       "      <td>1</td>\n",
       "      <td>1800.0</td>\n",
       "      <td>3</td>\n",
       "      <td>1053</td>\n",
       "    </tr>\n",
       "  </tbody>\n",
       "</table>\n",
       "</div>"
      ],
      "text/plain": [
       "  YearOfObservation  Insured_Period  Residential Building_Painted  \\\n",
       "0              2013           1.000            0                N   \n",
       "1              2015           1.000            0                V   \n",
       "2              2014           1.000            0                N   \n",
       "3              2013           1.000            0                V   \n",
       "4              2014           1.000            0                V   \n",
       "\n",
       "  Building_Fenced Garden Settlement  Building Dimension  Building_Type  \\\n",
       "0               V      V          U             290.000              1   \n",
       "1               N      O          R             490.000              1   \n",
       "2               V      V          U             595.000              1   \n",
       "3               V      V          U            2840.000              1   \n",
       "4               N      O          R             680.000              1   \n",
       "\n",
       "  Date_of_Occupancy  NumberOfWindows Geo_Code  \n",
       "0            1960.0                0     1053  \n",
       "1            1850.0                4     1053  \n",
       "2            1960.0                0     1053  \n",
       "3            1960.0                0     1053  \n",
       "4            1800.0                3     1053  "
      ]
     },
     "execution_count": 233,
     "metadata": {},
     "output_type": "execute_result"
    }
   ],
   "source": [
    "X.head()"
   ]
  },
  {
   "cell_type": "code",
   "execution_count": 234,
   "id": "c57c7fa5",
   "metadata": {},
   "outputs": [],
   "source": [
    "# Splitting the dataset into training and validation set into a ratio of 70:30 \n",
    "X_train, X_val, y_train, y_val = train_test_split(X,y,test_size=0.30,random_state=1)"
   ]
  },
  {
   "cell_type": "code",
   "execution_count": 235,
   "id": "7a3fcad1",
   "metadata": {},
   "outputs": [
    {
     "name": "stdout",
     "output_type": "stream",
     "text": [
      "The training dataset consits of 5003 rows and 12 columns\n"
     ]
    }
   ],
   "source": [
    "print(f\"The training dataset consits of {X_train.shape[0]} rows and {X_train.shape[1]} columns\")"
   ]
  },
  {
   "cell_type": "code",
   "execution_count": 236,
   "id": "3722da92",
   "metadata": {},
   "outputs": [
    {
     "name": "stdout",
     "output_type": "stream",
     "text": [
      "The validation dataset consists of 2145 rows and 12 columns\n"
     ]
    }
   ],
   "source": [
    "print(f\"The validation dataset consists of {X_val.shape[0]} rows and {X_val.shape[1]} columns\")"
   ]
  },
  {
   "cell_type": "code",
   "execution_count": 237,
   "id": "c08b6b5a",
   "metadata": {},
   "outputs": [
    {
     "data": {
      "text/plain": [
       "7148"
      ]
     },
     "execution_count": 237,
     "metadata": {},
     "output_type": "execute_result"
    }
   ],
   "source": [
    "X.shape[0]"
   ]
  },
  {
   "cell_type": "markdown",
   "id": "511c8722",
   "metadata": {},
   "source": [
    "### Normalize/standardize the data"
   ]
  },
  {
   "cell_type": "code",
   "execution_count": 239,
   "id": "8a17a8b3",
   "metadata": {},
   "outputs": [],
   "source": [
    "# Scale the data using StandardScaler\n",
    "#scaler = StandardScaler()\n",
    "#X_train = scaler.fit_transform(X_train)\n",
    "#X_val = scaler.transform(X_val)"
   ]
  },
  {
   "cell_type": "code",
   "execution_count": 240,
   "id": "e97f9617",
   "metadata": {},
   "outputs": [
    {
     "data": {
      "text/plain": [
       "(3069, 12)"
      ]
     },
     "execution_count": 240,
     "metadata": {},
     "output_type": "execute_result"
    }
   ],
   "source": [
    "test_data.shape"
   ]
  },
  {
   "cell_type": "markdown",
   "id": "9e8480ef",
   "metadata": {},
   "source": [
    "### Cleaning the testing dataset"
   ]
  },
  {
   "cell_type": "code",
   "execution_count": 144,
   "id": "bf855ab9",
   "metadata": {},
   "outputs": [],
   "source": [
    "### Cleaning the testing dataset\n",
    "# Create a copy of the original dataset\n",
    "#data_test1 = test_data.copy()\n",
    "# Drop the Year and UniqueID columns\n",
    "#data_test= data_test.drop(columns=[\"Year\",\"UniqueID\"],axis=1)\n",
    "# Now select the categorical columns in the testing dataset\n",
    "#categorical_test_column = data_test.select_dtypes(\"object\").columns\n",
    "# Now create the dummy variables on the categorical columns\n",
    "#for variable in categorical_test_column:\n",
    "    \n",
    "       #data_test[variable] = pd.factorize(data_test[variable])[0]  "
   ]
  },
  {
   "cell_type": "code",
   "execution_count": 241,
   "id": "5919075f",
   "metadata": {},
   "outputs": [
    {
     "data": {
      "text/html": [
       "<div>\n",
       "<style scoped>\n",
       "    .dataframe tbody tr th:only-of-type {\n",
       "        vertical-align: middle;\n",
       "    }\n",
       "\n",
       "    .dataframe tbody tr th {\n",
       "        vertical-align: top;\n",
       "    }\n",
       "\n",
       "    .dataframe thead th {\n",
       "        text-align: right;\n",
       "    }\n",
       "</style>\n",
       "<table border=\"1\" class=\"dataframe\">\n",
       "  <thead>\n",
       "    <tr style=\"text-align: right;\">\n",
       "      <th></th>\n",
       "      <th>YearOfObservation</th>\n",
       "      <th>Insured_Period</th>\n",
       "      <th>Residential</th>\n",
       "      <th>Building_Painted</th>\n",
       "      <th>Building_Fenced</th>\n",
       "      <th>Garden</th>\n",
       "      <th>Settlement</th>\n",
       "      <th>Building Dimension</th>\n",
       "      <th>Building_Type</th>\n",
       "      <th>Date_of_Occupancy</th>\n",
       "      <th>NumberOfWindows</th>\n",
       "      <th>Geo_Code</th>\n",
       "    </tr>\n",
       "  </thead>\n",
       "  <tbody>\n",
       "    <tr>\n",
       "      <th>0</th>\n",
       "      <td>2013</td>\n",
       "      <td>1.000</td>\n",
       "      <td>0</td>\n",
       "      <td>V</td>\n",
       "      <td>N</td>\n",
       "      <td>O</td>\n",
       "      <td>R</td>\n",
       "      <td>300.000</td>\n",
       "      <td>1</td>\n",
       "      <td>1960.0</td>\n",
       "      <td>3</td>\n",
       "      <td>3310</td>\n",
       "    </tr>\n",
       "    <tr>\n",
       "      <th>1</th>\n",
       "      <td>2016</td>\n",
       "      <td>0.997</td>\n",
       "      <td>0</td>\n",
       "      <td>V</td>\n",
       "      <td>N</td>\n",
       "      <td>O</td>\n",
       "      <td>R</td>\n",
       "      <td>300.000</td>\n",
       "      <td>1</td>\n",
       "      <td>1960.0</td>\n",
       "      <td>3</td>\n",
       "      <td>3310</td>\n",
       "    </tr>\n",
       "    <tr>\n",
       "      <th>2</th>\n",
       "      <td>2013</td>\n",
       "      <td>0.370</td>\n",
       "      <td>0</td>\n",
       "      <td>V</td>\n",
       "      <td>V</td>\n",
       "      <td>V</td>\n",
       "      <td>U</td>\n",
       "      <td>790.000</td>\n",
       "      <td>1</td>\n",
       "      <td>1960.0</td>\n",
       "      <td>0</td>\n",
       "      <td>3310</td>\n",
       "    </tr>\n",
       "    <tr>\n",
       "      <th>3</th>\n",
       "      <td>2014</td>\n",
       "      <td>1.000</td>\n",
       "      <td>0</td>\n",
       "      <td>V</td>\n",
       "      <td>N</td>\n",
       "      <td>O</td>\n",
       "      <td>R</td>\n",
       "      <td>1405.000</td>\n",
       "      <td>1</td>\n",
       "      <td>2004.0</td>\n",
       "      <td>3</td>\n",
       "      <td>3321</td>\n",
       "    </tr>\n",
       "    <tr>\n",
       "      <th>4</th>\n",
       "      <td>2016</td>\n",
       "      <td>1.000</td>\n",
       "      <td>0</td>\n",
       "      <td>V</td>\n",
       "      <td>N</td>\n",
       "      <td>O</td>\n",
       "      <td>R</td>\n",
       "      <td>1405.000</td>\n",
       "      <td>1</td>\n",
       "      <td>2004.0</td>\n",
       "      <td>3</td>\n",
       "      <td>3321</td>\n",
       "    </tr>\n",
       "  </tbody>\n",
       "</table>\n",
       "</div>"
      ],
      "text/plain": [
       "  YearOfObservation  Insured_Period  Residential Building_Painted  \\\n",
       "0              2013           1.000            0                V   \n",
       "1              2016           0.997            0                V   \n",
       "2              2013           0.370            0                V   \n",
       "3              2014           1.000            0                V   \n",
       "4              2016           1.000            0                V   \n",
       "\n",
       "  Building_Fenced Garden Settlement  Building Dimension  Building_Type  \\\n",
       "0               N      O          R             300.000              1   \n",
       "1               N      O          R             300.000              1   \n",
       "2               V      V          U             790.000              1   \n",
       "3               N      O          R            1405.000              1   \n",
       "4               N      O          R            1405.000              1   \n",
       "\n",
       "  Date_of_Occupancy  NumberOfWindows Geo_Code  \n",
       "0            1960.0                3     3310  \n",
       "1            1960.0                3     3310  \n",
       "2            1960.0                0     3310  \n",
       "3            2004.0                3     3321  \n",
       "4            2004.0                3     3321  "
      ]
     },
     "execution_count": 241,
     "metadata": {},
     "output_type": "execute_result"
    }
   ],
   "source": [
    "test_data.head()"
   ]
  },
  {
   "cell_type": "code",
   "execution_count": 242,
   "id": "94fe9c25",
   "metadata": {},
   "outputs": [
    {
     "data": {
      "text/plain": [
       "(3069, 12)"
      ]
     },
     "execution_count": 242,
     "metadata": {},
     "output_type": "execute_result"
    }
   ],
   "source": [
    "test_data.shape"
   ]
  },
  {
   "cell_type": "code",
   "execution_count": 243,
   "id": "fd6567a0",
   "metadata": {},
   "outputs": [],
   "source": [
    "X_test = test_data"
   ]
  },
  {
   "cell_type": "code",
   "execution_count": 67,
   "id": "228d2efe",
   "metadata": {},
   "outputs": [],
   "source": [
    "### Now normalize the testing dataset\n",
    "#scaler = StandardScaler()\n",
    "#X_test = scaler.fit_transform(X_test)"
   ]
  },
  {
   "cell_type": "code",
   "execution_count": 244,
   "id": "3b44452d",
   "metadata": {},
   "outputs": [
    {
     "data": {
      "text/plain": [
       "(3069, 12)"
      ]
     },
     "execution_count": 244,
     "metadata": {},
     "output_type": "execute_result"
    }
   ],
   "source": [
    "X_test.shape"
   ]
  },
  {
   "cell_type": "code",
   "execution_count": 245,
   "id": "6973c6ac",
   "metadata": {},
   "outputs": [
    {
     "data": {
      "text/plain": [
       "(3069, 13)"
      ]
     },
     "execution_count": 245,
     "metadata": {},
     "output_type": "execute_result"
    }
   ],
   "source": [
    "data_test.shape"
   ]
  },
  {
   "cell_type": "code",
   "execution_count": 246,
   "id": "2a793212",
   "metadata": {},
   "outputs": [
    {
     "data": {
      "text/plain": [
       "(3069, 12)"
      ]
     },
     "execution_count": 246,
     "metadata": {},
     "output_type": "execute_result"
    }
   ],
   "source": [
    "test_data.shape"
   ]
  },
  {
   "cell_type": "markdown",
   "id": "2414b2ff",
   "metadata": {},
   "source": [
    "## Data preprocessing"
   ]
  },
  {
   "cell_type": "code",
   "execution_count": 247,
   "id": "f7e8b7e6",
   "metadata": {},
   "outputs": [
    {
     "data": {
      "text/plain": [
       "YearOfObservation    0.000\n",
       "Insured_Period       0.000\n",
       "Residential          0.000\n",
       "Building_Painted     0.000\n",
       "Building_Fenced      0.000\n",
       "Garden               0.120\n",
       "Settlement           0.000\n",
       "Building Dimension   1.439\n",
       "Building_Type        0.000\n",
       "Date_of_Occupancy    0.000\n",
       "NumberOfWindows      0.000\n",
       "Geo_Code             1.379\n",
       "dtype: float64"
      ]
     },
     "execution_count": 247,
     "metadata": {},
     "output_type": "execute_result"
    }
   ],
   "source": [
    "X_train.isnull().sum()/X_train.shape[0] *100"
   ]
  },
  {
   "cell_type": "code",
   "execution_count": 248,
   "id": "495772cc",
   "metadata": {},
   "outputs": [
    {
     "data": {
      "text/plain": [
       "YearOfObservation    0.000\n",
       "Insured_Period       0.000\n",
       "Residential          0.000\n",
       "Building_Painted     0.000\n",
       "Building_Fenced      0.000\n",
       "Garden               0.047\n",
       "Settlement           0.000\n",
       "Building Dimension   1.399\n",
       "Building_Type        0.000\n",
       "Date_of_Occupancy    0.000\n",
       "NumberOfWindows      0.000\n",
       "Geo_Code             1.352\n",
       "dtype: float64"
      ]
     },
     "execution_count": 248,
     "metadata": {},
     "output_type": "execute_result"
    }
   ],
   "source": [
    "X_val.isnull().sum()/X_val.shape[0] *100"
   ]
  },
  {
   "cell_type": "code",
   "execution_count": 249,
   "id": "74021967",
   "metadata": {},
   "outputs": [
    {
     "name": "stdout",
     "output_type": "stream",
     "text": [
      "[]\n"
     ]
    }
   ],
   "source": [
    "## Code to print the columns with missing values greater than 50%\n",
    "col_feature=[] # create an empty list\n",
    "for item in data.columns:\n",
    "    if ((data[item].isnull().sum()/data.shape[0])>0.50):\n",
    "        col_feature.append(item)  # append the columns with missing values greater than 50% in the list\n",
    "print(col_feature) "
   ]
  },
  {
   "cell_type": "code",
   "execution_count": 250,
   "id": "1ae69293",
   "metadata": {},
   "outputs": [],
   "source": [
    "### code to select the numerical columns in the training dataset\n",
    "train_cols = X_train.select_dtypes(\"number\").columns\n",
    "# To impute missing values\n",
    "from sklearn.impute import SimpleImputer"
   ]
  },
  {
   "cell_type": "code",
   "execution_count": 251,
   "id": "6ca25f46",
   "metadata": {},
   "outputs": [
    {
     "data": {
      "text/plain": [
       "Index(['Insured_Period', 'Residential', 'Building Dimension', 'Building_Type',\n",
       "       'NumberOfWindows'],\n",
       "      dtype='object')"
      ]
     },
     "execution_count": 251,
     "metadata": {},
     "output_type": "execute_result"
    }
   ],
   "source": [
    "train_cols"
   ]
  },
  {
   "cell_type": "markdown",
   "id": "f790cdc6",
   "metadata": {},
   "source": [
    "### Perfom imputation of missing values in the training set "
   ]
  },
  {
   "cell_type": "code",
   "execution_count": 252,
   "id": "822feaf4",
   "metadata": {},
   "outputs": [
    {
     "name": "stdout",
     "output_type": "stream",
     "text": [
      "The running time:0.3093\n"
     ]
    }
   ],
   "source": [
    "## Instantiate the simple imputer \n",
    "median_imputer = SimpleImputer(missing_values=np.nan,strategy=\"median\")\n",
    "## Fit and transform the numerical columns in the training dataset\n",
    "import time\n",
    "startScript = time.time()\n",
    "X_train[train_cols] = median_imputer.fit_transform(X_train[train_cols])\n",
    "endScript = time.time()\n",
    "display = endScript-startScript   # code to calculate the running time \n",
    "print(f\"The running time:{round(display,4)}\")"
   ]
  },
  {
   "cell_type": "code",
   "execution_count": 253,
   "id": "ffa4f059",
   "metadata": {},
   "outputs": [],
   "source": [
    "### Imputation for categorical columns in the training dataset\n",
    "## Select categorical columns and perform imputation\n",
    "categorical_train_cols=X_train.select_dtypes(\"object\").columns"
   ]
  },
  {
   "cell_type": "code",
   "execution_count": 254,
   "id": "090db48f",
   "metadata": {},
   "outputs": [
    {
     "data": {
      "text/plain": [
       "Index(['YearOfObservation', 'Building_Painted', 'Building_Fenced', 'Garden',\n",
       "       'Settlement', 'Date_of_Occupancy', 'Geo_Code'],\n",
       "      dtype='object')"
      ]
     },
     "execution_count": 254,
     "metadata": {},
     "output_type": "execute_result"
    }
   ],
   "source": [
    "categorical_train_cols"
   ]
  },
  {
   "cell_type": "code",
   "execution_count": 255,
   "id": "f9f151c3",
   "metadata": {},
   "outputs": [
    {
     "name": "stdout",
     "output_type": "stream",
     "text": [
      "The running time:0.0481\n"
     ]
    }
   ],
   "source": [
    "## Instantiate the simple imputer \n",
    "mode_imputer = SimpleImputer(missing_values=np.nan,strategy='most_frequent')\n",
    "## Fit and transform the numerical columns in the training dataset\n",
    "import time\n",
    "startScript = time.time()\n",
    "X_train[categorical_train_cols] = mode_imputer.fit_transform(X_train[categorical_train_cols])\n",
    "endScript = time.time()\n",
    "display = endScript-startScript   # code to calculate the running time \n",
    "print(f\"The running time:{round(display,4)}\")"
   ]
  },
  {
   "cell_type": "markdown",
   "id": "56d9e6ec",
   "metadata": {},
   "source": [
    "### Perfom imputation of missing values in the validation set"
   ]
  },
  {
   "cell_type": "code",
   "execution_count": 256,
   "id": "d33fef6e",
   "metadata": {},
   "outputs": [
    {
     "name": "stdout",
     "output_type": "stream",
     "text": [
      "The running time:0.0161\n"
     ]
    }
   ],
   "source": [
    "## Instantiate the simple imputer \n",
    "median_imputer = SimpleImputer(missing_values=np.nan,strategy=\"median\")\n",
    "## Fit and transform the numerical columns in the training dataset\n",
    "import time\n",
    "startScript = time.time()\n",
    "X_val[train_cols] = median_imputer.fit_transform(X_val[train_cols])\n",
    "endScript = time.time()\n",
    "display = endScript-startScript   # code to calculate the running time \n",
    "print(f\"The running time:{round(display,4)}\")"
   ]
  },
  {
   "cell_type": "code",
   "execution_count": 257,
   "id": "ab0efc14",
   "metadata": {},
   "outputs": [
    {
     "name": "stdout",
     "output_type": "stream",
     "text": [
      "The running time:0.0161\n"
     ]
    }
   ],
   "source": [
    "## Instantiate the simple imputer \n",
    "mode_imputer = SimpleImputer(missing_values=np.nan,strategy='most_frequent')\n",
    "## Fit and transform the numerical columns in the training dataset\n",
    "import time\n",
    "startScript = time.time()\n",
    "X_val[categorical_train_cols] = mode_imputer.fit_transform(X_val[categorical_train_cols])\n",
    "endScript = time.time()\n",
    "display = endScript-startScript   # code to calculate the running time \n",
    "print(f\"The running time:{round(display,4)}\")"
   ]
  },
  {
   "cell_type": "markdown",
   "id": "1d6b0fbd",
   "metadata": {},
   "source": [
    "### Perfom imputation of missing values in the testing set"
   ]
  },
  {
   "cell_type": "code",
   "execution_count": 258,
   "id": "3de926dd",
   "metadata": {},
   "outputs": [
    {
     "name": "stdout",
     "output_type": "stream",
     "text": [
      "The running time:0.008\n"
     ]
    }
   ],
   "source": [
    "## Instantiate the simple imputer \n",
    "median_imputer = SimpleImputer(missing_values=np.nan,strategy=\"median\")\n",
    "## Fit and transform the numerical columns in the training dataset\n",
    "import time\n",
    "startScript = time.time()\n",
    "X_test[train_cols] = median_imputer.fit_transform(X_test[train_cols])\n",
    "endScript = time.time()\n",
    "display = endScript-startScript   # code to calculate the running time \n",
    "print(f\"The running time:{round(display,4)}\")"
   ]
  },
  {
   "cell_type": "code",
   "execution_count": 259,
   "id": "9c7ac9d0",
   "metadata": {},
   "outputs": [
    {
     "name": "stdout",
     "output_type": "stream",
     "text": [
      "The running time:0.015\n"
     ]
    }
   ],
   "source": [
    "## Instantiate the simple imputer \n",
    "mode_imputer = SimpleImputer(missing_values=np.nan,strategy='most_frequent')\n",
    "## Fit and transform the numerical columns in the training dataset\n",
    "import time\n",
    "startScript = time.time()\n",
    "X_test[categorical_train_cols] = mode_imputer.fit_transform(X_test[categorical_train_cols])\n",
    "endScript = time.time()\n",
    "display = endScript-startScript   # code to calculate the running time \n",
    "print(f\"The running time:{round(display,4)}\")"
   ]
  },
  {
   "cell_type": "markdown",
   "id": "73884395",
   "metadata": {},
   "source": [
    "### Model Building"
   ]
  },
  {
   "cell_type": "markdown",
   "id": "b05ad63b",
   "metadata": {},
   "source": [
    "## Performance measures description:\n",
    "* Mean Absolute Error: The sum of the absolute difference of the predicted values and the target values divided by the number of observations. <br>\n",
    "* The lower the mean absolute error the good model to use for prediction.<br>\n",
    "* True positive(TP): The model predict that the respondent has a bank account(Yes) and in reality he/she has the bank account(Yes).<br>\n",
    "* False positive(FP): The model predict an employee attrition(Yes) and in reality it there is no attrition(No).<br>\n",
    "* False negative(FN): The model predict no employee attrition(No) and the reality there is an employee attrition(Yes).<br>\n",
    "* True negative(TN): The model predict no employee attrition(No) and in reality there is no attrition(No).<br>\n",
    "* Accuracy = (TP+TN)/(TP+FP+FN+TN)\n",
    "* Recall =(TP)/(TP+FN)\n",
    "* Precision =(FP/FP+TN)\n",
    "* F1 score: This score minimize both the False negative(FN) and False Positive(FN),the higher the better\n",
    "* The values can computed using a confusion matrix"
   ]
  },
  {
   "cell_type": "code",
   "execution_count": 260,
   "id": "03e9c555",
   "metadata": {},
   "outputs": [],
   "source": [
    "# defining a function to compute different metrics to check performance of a classification model built using sklearn\n",
    "def model_performance_classification_sklearn(model, predictors, target):\n",
    "\n",
    "        # predicting using the independent variables\n",
    "        pred = model.predict(predictors)\n",
    "        acc = accuracy_score(target, pred)  # to compute Accuracy using target and predicted values\n",
    "        recall = recall_score(target, pred)  # to compute Recall using target and predicted values\n",
    "        precision = precision_score(target, pred)  # to compute Precision using target and predicted values\n",
    "        f1 = f1_score(target, pred)  # to compute F1-score using target and predicted values\n",
    "\n",
    "        # creating a dataframe of metrics\n",
    "        df_perf = pd.DataFrame( {\"Accuracy\": acc,\"Recall\": recall,\"Precision\": precision,\"F1\": f1},index=[0],)\n",
    "\n",
    "        return df_perf"
   ]
  },
  {
   "cell_type": "code",
   "execution_count": 261,
   "id": "f39dcf09",
   "metadata": {},
   "outputs": [],
   "source": [
    "# Type of scoring used to compare parameter combinations\n",
    "scorer = metrics.make_scorer(metrics.recall_score)"
   ]
  },
  {
   "cell_type": "markdown",
   "id": "872ea0bd",
   "metadata": {},
   "source": [
    "### Model Building on original data"
   ]
  },
  {
   "cell_type": "code",
   "execution_count": 262,
   "id": "a912b491",
   "metadata": {},
   "outputs": [],
   "source": [
    "### Code to select all the features on the training dataset\n",
    "features = list(X_train.columns)"
   ]
  },
  {
   "cell_type": "code",
   "execution_count": 263,
   "id": "23cc5495",
   "metadata": {},
   "outputs": [
    {
     "data": {
      "text/plain": [
       "['YearOfObservation',\n",
       " 'Insured_Period',\n",
       " 'Residential',\n",
       " 'Building_Painted',\n",
       " 'Building_Fenced',\n",
       " 'Garden',\n",
       " 'Settlement',\n",
       " 'Building Dimension',\n",
       " 'Building_Type',\n",
       " 'Date_of_Occupancy',\n",
       " 'NumberOfWindows',\n",
       " 'Geo_Code']"
      ]
     },
     "execution_count": 263,
     "metadata": {},
     "output_type": "execute_result"
    }
   ],
   "source": [
    "features"
   ]
  },
  {
   "cell_type": "code",
   "execution_count": 264,
   "id": "8ecde7fc",
   "metadata": {},
   "outputs": [
    {
     "data": {
      "text/plain": [
       "array([0., 1.])"
      ]
     },
     "execution_count": 264,
     "metadata": {},
     "output_type": "execute_result"
    }
   ],
   "source": [
    "X_train[\"Residential\"].unique()"
   ]
  },
  {
   "cell_type": "code",
   "execution_count": 265,
   "id": "288c2213",
   "metadata": {},
   "outputs": [],
   "source": [
    "### Code to select categorical features\n",
    "cat_features = np.where(X_train.dtypes !=float)[0]"
   ]
  },
  {
   "cell_type": "code",
   "execution_count": 266,
   "id": "3e01e2bb",
   "metadata": {},
   "outputs": [
    {
     "data": {
      "text/plain": [
       "array([ 0,  3,  4,  5,  6,  9, 11], dtype=int64)"
      ]
     },
     "execution_count": 266,
     "metadata": {},
     "output_type": "execute_result"
    }
   ],
   "source": [
    "cat_features"
   ]
  },
  {
   "cell_type": "code",
   "execution_count": null,
   "id": "f049b0bf",
   "metadata": {},
   "outputs": [],
   "source": [
    "od_type ='Iter',    # Overfit detector\n",
    "od_wait = 20,  # most recent best iteration to wait before stopping\n",
    "od_type ='Iter',    # Overfit detector\n",
    "metric_period "
   ]
  },
  {
   "cell_type": "code",
   "execution_count": 267,
   "id": "2ce0f8a9",
   "metadata": {},
   "outputs": [],
   "source": [
    "from catboost import CatBoostClassifier"
   ]
  },
  {
   "cell_type": "code",
   "execution_count": 316,
   "id": "6af8b1f5",
   "metadata": {},
   "outputs": [
    {
     "data": {
      "application/vnd.jupyter.widget-view+json": {
       "model_id": "f3f4dda1fb5c46ac82af5b013327841d",
       "version_major": 2,
       "version_minor": 0
      },
      "text/plain": [
       "MetricVisualizer(layout=Layout(align_self='stretch', height='500px'))"
      ]
     },
     "metadata": {},
     "output_type": "display_data"
    },
    {
     "name": "stdout",
     "output_type": "stream",
     "text": [
      "0:\ttest: 0.6247463\tbest: 0.6247463 (0)\ttotal: 19.1ms\tremaining: 1m 35s\n",
      "20:\ttest: 0.7185597\tbest: 0.7185597 (20)\ttotal: 441ms\tremaining: 1m 44s\n",
      "40:\ttest: 0.7160189\tbest: 0.7185597 (20)\ttotal: 930ms\tremaining: 1m 52s\n",
      "60:\ttest: 0.7202465\tbest: 0.7202465 (60)\ttotal: 1.47s\tremaining: 1m 58s\n",
      "80:\ttest: 0.7200076\tbest: 0.7202465 (60)\ttotal: 1.89s\tremaining: 1m 55s\n",
      "100:\ttest: 0.7208345\tbest: 0.7208345 (100)\ttotal: 2.28s\tremaining: 1m 50s\n",
      "120:\ttest: 0.7210741\tbest: 0.7210741 (120)\ttotal: 2.74s\tremaining: 1m 50s\n",
      "140:\ttest: 0.7210646\tbest: 0.7210741 (120)\ttotal: 3.15s\tremaining: 1m 48s\n",
      "160:\ttest: 0.7213634\tbest: 0.7213634 (160)\ttotal: 3.54s\tremaining: 1m 46s\n",
      "180:\ttest: 0.7217706\tbest: 0.7217706 (180)\ttotal: 3.93s\tremaining: 1m 44s\n",
      "200:\ttest: 0.7223038\tbest: 0.7223038 (200)\ttotal: 4.32s\tremaining: 1m 43s\n",
      "220:\ttest: 0.7228761\tbest: 0.7228761 (220)\ttotal: 4.72s\tremaining: 1m 42s\n",
      "240:\ttest: 0.7235147\tbest: 0.7235147 (240)\ttotal: 5.13s\tremaining: 1m 41s\n",
      "260:\ttest: 0.7233451\tbest: 0.7235147 (240)\ttotal: 5.5s\tremaining: 1m 39s\n",
      "280:\ttest: 0.7235909\tbest: 0.7235909 (280)\ttotal: 5.91s\tremaining: 1m 39s\n",
      "300:\ttest: 0.7241229\tbest: 0.7241229 (300)\ttotal: 6.29s\tremaining: 1m 38s\n",
      "320:\ttest: 0.7246877\tbest: 0.7246877 (320)\ttotal: 6.67s\tremaining: 1m 37s\n",
      "340:\ttest: 0.7250154\tbest: 0.7250154 (340)\ttotal: 7.23s\tremaining: 1m 38s\n",
      "360:\ttest: 0.7253130\tbest: 0.7253130 (360)\ttotal: 7.78s\tremaining: 1m 39s\n",
      "380:\ttest: 0.7254390\tbest: 0.7254390 (380)\ttotal: 8.44s\tremaining: 1m 42s\n",
      "400:\ttest: 0.7259679\tbest: 0.7259679 (400)\ttotal: 9.06s\tremaining: 1m 43s\n",
      "420:\ttest: 0.7264425\tbest: 0.7264425 (420)\ttotal: 9.7s\tremaining: 1m 45s\n",
      "440:\ttest: 0.7267482\tbest: 0.7267482 (440)\ttotal: 10.4s\tremaining: 1m 47s\n",
      "460:\ttest: 0.7270091\tbest: 0.7270091 (460)\ttotal: 11s\tremaining: 1m 48s\n",
      "480:\ttest: 0.7271730\tbest: 0.7271730 (480)\ttotal: 11.7s\tremaining: 1m 49s\n",
      "500:\ttest: 0.7272777\tbest: 0.7272777 (500)\ttotal: 12.3s\tremaining: 1m 50s\n",
      "520:\ttest: 0.7274983\tbest: 0.7274983 (520)\ttotal: 12.8s\tremaining: 1m 49s\n",
      "540:\ttest: 0.7275386\tbest: 0.7275386 (540)\ttotal: 13.3s\tremaining: 1m 49s\n",
      "560:\ttest: 0.7275676\tbest: 0.7275676 (560)\ttotal: 13.8s\tremaining: 1m 48s\n",
      "580:\ttest: 0.7278027\tbest: 0.7278027 (580)\ttotal: 14.3s\tremaining: 1m 48s\n",
      "600:\ttest: 0.7279326\tbest: 0.7279326 (600)\ttotal: 14.7s\tremaining: 1m 47s\n",
      "620:\ttest: 0.7281437\tbest: 0.7281437 (620)\ttotal: 15.1s\tremaining: 1m 46s\n",
      "640:\ttest: 0.7282212\tbest: 0.7282212 (640)\ttotal: 15.6s\tremaining: 1m 46s\n",
      "660:\ttest: 0.7285339\tbest: 0.7285339 (660)\ttotal: 16.1s\tremaining: 1m 45s\n",
      "680:\ttest: 0.7286921\tbest: 0.7286921 (680)\ttotal: 16.6s\tremaining: 1m 45s\n",
      "700:\ttest: 0.7287854\tbest: 0.7287854 (700)\ttotal: 17s\tremaining: 1m 44s\n",
      "720:\ttest: 0.7288478\tbest: 0.7288478 (720)\ttotal: 17.5s\tremaining: 1m 43s\n",
      "740:\ttest: 0.7290230\tbest: 0.7290230 (740)\ttotal: 17.9s\tremaining: 1m 42s\n",
      "760:\ttest: 0.7291617\tbest: 0.7291617 (760)\ttotal: 18.3s\tremaining: 1m 42s\n",
      "780:\ttest: 0.7293205\tbest: 0.7293205 (780)\ttotal: 18.8s\tremaining: 1m 41s\n",
      "800:\ttest: 0.7294541\tbest: 0.7294541 (800)\ttotal: 19.2s\tremaining: 1m 40s\n",
      "820:\ttest: 0.7295071\tbest: 0.7295071 (820)\ttotal: 19.7s\tremaining: 1m 40s\n",
      "840:\ttest: 0.7295449\tbest: 0.7295449 (840)\ttotal: 20.1s\tremaining: 1m 39s\n",
      "860:\ttest: 0.7296067\tbest: 0.7296067 (860)\ttotal: 20.6s\tremaining: 1m 38s\n",
      "880:\ttest: 0.7297189\tbest: 0.7297189 (880)\ttotal: 21s\tremaining: 1m 38s\n",
      "900:\ttest: 0.7299950\tbest: 0.7299950 (900)\ttotal: 21.5s\tremaining: 1m 37s\n",
      "920:\ttest: 0.7301059\tbest: 0.7301059 (920)\ttotal: 22.1s\tremaining: 1m 37s\n",
      "940:\ttest: 0.7302786\tbest: 0.7302786 (940)\ttotal: 22.6s\tremaining: 1m 37s\n",
      "960:\ttest: 0.7303757\tbest: 0.7303757 (960)\ttotal: 23.1s\tremaining: 1m 37s\n",
      "980:\ttest: 0.7304110\tbest: 0.7304110 (980)\ttotal: 23.8s\tremaining: 1m 37s\n",
      "1000:\ttest: 0.7305345\tbest: 0.7305345 (1000)\ttotal: 24.4s\tremaining: 1m 37s\n",
      "1020:\ttest: 0.7306883\tbest: 0.7306883 (1020)\ttotal: 25s\tremaining: 1m 37s\n",
      "1040:\ttest: 0.7308276\tbest: 0.7308276 (1040)\ttotal: 25.7s\tremaining: 1m 37s\n",
      "1060:\ttest: 0.7308541\tbest: 0.7308541 (1060)\ttotal: 26.3s\tremaining: 1m 37s\n",
      "1080:\ttest: 0.7308743\tbest: 0.7308743 (1080)\ttotal: 26.9s\tremaining: 1m 37s\n",
      "1100:\ttest: 0.7310293\tbest: 0.7310293 (1100)\ttotal: 27.5s\tremaining: 1m 37s\n",
      "1120:\ttest: 0.7310936\tbest: 0.7310936 (1120)\ttotal: 28.2s\tremaining: 1m 37s\n",
      "1140:\ttest: 0.7311150\tbest: 0.7311150 (1140)\ttotal: 28.7s\tremaining: 1m 36s\n",
      "1160:\ttest: 0.7312512\tbest: 0.7312512 (1160)\ttotal: 29.1s\tremaining: 1m 36s\n",
      "1180:\ttest: 0.7312361\tbest: 0.7312512 (1160)\ttotal: 29.6s\tremaining: 1m 35s\n",
      "1200:\ttest: 0.7312751\tbest: 0.7312751 (1200)\ttotal: 30.1s\tremaining: 1m 35s\n",
      "1220:\ttest: 0.7312524\tbest: 0.7312751 (1200)\ttotal: 30.5s\tremaining: 1m 34s\n",
      "1240:\ttest: 0.7313016\tbest: 0.7313016 (1240)\ttotal: 31s\tremaining: 1m 33s\n",
      "1260:\ttest: 0.7312903\tbest: 0.7313016 (1240)\ttotal: 31.4s\tremaining: 1m 33s\n",
      "1280:\ttest: 0.7312953\tbest: 0.7313016 (1240)\ttotal: 31.9s\tremaining: 1m 32s\n",
      "1300:\ttest: 0.7313054\tbest: 0.7313054 (1300)\ttotal: 32.3s\tremaining: 1m 31s\n",
      "1320:\ttest: 0.7312903\tbest: 0.7313054 (1300)\ttotal: 32.7s\tremaining: 1m 31s\n",
      "1340:\ttest: 0.7313861\tbest: 0.7313861 (1340)\ttotal: 33.2s\tremaining: 1m 30s\n",
      "1360:\ttest: 0.7314466\tbest: 0.7314466 (1360)\ttotal: 33.6s\tremaining: 1m 29s\n",
      "1380:\ttest: 0.7315323\tbest: 0.7315323 (1380)\ttotal: 34.1s\tremaining: 1m 29s\n",
      "1400:\ttest: 0.7314920\tbest: 0.7315323 (1380)\ttotal: 34.5s\tremaining: 1m 28s\n",
      "1420:\ttest: 0.7315197\tbest: 0.7315323 (1380)\ttotal: 35s\tremaining: 1m 28s\n",
      "1440:\ttest: 0.7314970\tbest: 0.7315323 (1380)\ttotal: 35.4s\tremaining: 1m 27s\n",
      "1460:\ttest: 0.7315109\tbest: 0.7315323 (1380)\ttotal: 35.9s\tremaining: 1m 26s\n",
      "1480:\ttest: 0.7314491\tbest: 0.7315323 (1380)\ttotal: 36.3s\tremaining: 1m 26s\n",
      "1500:\ttest: 0.7315802\tbest: 0.7315802 (1500)\ttotal: 36.7s\tremaining: 1m 25s\n",
      "1520:\ttest: 0.7315840\tbest: 0.7315840 (1520)\ttotal: 37.5s\tremaining: 1m 25s\n",
      "1540:\ttest: 0.7315865\tbest: 0.7315865 (1540)\ttotal: 37.9s\tremaining: 1m 25s\n",
      "1560:\ttest: 0.7316634\tbest: 0.7316634 (1560)\ttotal: 38.4s\tremaining: 1m 24s\n",
      "1580:\ttest: 0.7317277\tbest: 0.7317277 (1580)\ttotal: 38.8s\tremaining: 1m 23s\n",
      "1600:\ttest: 0.7317365\tbest: 0.7317365 (1600)\ttotal: 39.4s\tremaining: 1m 23s\n",
      "1620:\ttest: 0.7317857\tbest: 0.7317857 (1620)\ttotal: 40s\tremaining: 1m 23s\n",
      "1640:\ttest: 0.7317529\tbest: 0.7317857 (1620)\ttotal: 40.7s\tremaining: 1m 23s\n",
      "1660:\ttest: 0.7317743\tbest: 0.7317857 (1620)\ttotal: 41.2s\tremaining: 1m 22s\n",
      "1680:\ttest: 0.7317844\tbest: 0.7317857 (1620)\ttotal: 41.8s\tremaining: 1m 22s\n",
      "1700:\ttest: 0.7317227\tbest: 0.7317857 (1620)\ttotal: 42.5s\tremaining: 1m 22s\n",
      "1720:\ttest: 0.7318197\tbest: 0.7318197 (1720)\ttotal: 43.1s\tremaining: 1m 22s\n",
      "1740:\ttest: 0.7318412\tbest: 0.7318412 (1740)\ttotal: 43.7s\tremaining: 1m 21s\n",
      "1760:\ttest: 0.7318790\tbest: 0.7318790 (1760)\ttotal: 44.2s\tremaining: 1m 21s\n",
      "1780:\ttest: 0.7318525\tbest: 0.7318790 (1760)\ttotal: 44.7s\tremaining: 1m 20s\n",
      "1800:\ttest: 0.7318172\tbest: 0.7318790 (1760)\ttotal: 45.1s\tremaining: 1m 20s\n",
      "1820:\ttest: 0.7318159\tbest: 0.7318790 (1760)\ttotal: 45.5s\tremaining: 1m 19s\n",
      "1840:\ttest: 0.7318386\tbest: 0.7318790 (1760)\ttotal: 46s\tremaining: 1m 18s\n",
      "1860:\ttest: 0.7318702\tbest: 0.7318790 (1760)\ttotal: 46.4s\tremaining: 1m 18s\n",
      "1880:\ttest: 0.7318223\tbest: 0.7318790 (1760)\ttotal: 47s\tremaining: 1m 17s\n",
      "1900:\ttest: 0.7317454\tbest: 0.7318790 (1760)\ttotal: 47.5s\tremaining: 1m 17s\n",
      "1920:\ttest: 0.7317554\tbest: 0.7318790 (1760)\ttotal: 48.1s\tremaining: 1m 17s\n",
      "1940:\ttest: 0.7317958\tbest: 0.7318790 (1760)\ttotal: 48.6s\tremaining: 1m 16s\n",
      "1960:\ttest: 0.7317365\tbest: 0.7318790 (1760)\ttotal: 49.1s\tremaining: 1m 16s\n",
      "1980:\ttest: 0.7317668\tbest: 0.7318790 (1760)\ttotal: 49.5s\tremaining: 1m 15s\n",
      "2000:\ttest: 0.7317302\tbest: 0.7318790 (1760)\ttotal: 49.9s\tremaining: 1m 14s\n",
      "2020:\ttest: 0.7316861\tbest: 0.7318790 (1760)\ttotal: 50.4s\tremaining: 1m 14s\n",
      "2040:\ttest: 0.7317466\tbest: 0.7318790 (1760)\ttotal: 50.9s\tremaining: 1m 13s\n",
      "2060:\ttest: 0.7318689\tbest: 0.7318790 (1760)\ttotal: 51.3s\tremaining: 1m 13s\n",
      "2080:\ttest: 0.7318689\tbest: 0.7318790 (1760)\ttotal: 51.8s\tremaining: 1m 12s\n",
      "2100:\ttest: 0.7318260\tbest: 0.7318790 (1760)\ttotal: 52.3s\tremaining: 1m 12s\n",
      "2120:\ttest: 0.7318286\tbest: 0.7318790 (1760)\ttotal: 52.8s\tremaining: 1m 11s\n",
      "2140:\ttest: 0.7317945\tbest: 0.7318790 (1760)\ttotal: 53.3s\tremaining: 1m 11s\n",
      "2160:\ttest: 0.7318828\tbest: 0.7318828 (2160)\ttotal: 53.8s\tremaining: 1m 10s\n",
      "2180:\ttest: 0.7319017\tbest: 0.7319017 (2180)\ttotal: 54.3s\tremaining: 1m 10s\n"
     ]
    },
    {
     "name": "stdout",
     "output_type": "stream",
     "text": [
      "2200:\ttest: 0.7318979\tbest: 0.7319017 (2180)\ttotal: 55s\tremaining: 1m 9s\n",
      "2220:\ttest: 0.7319042\tbest: 0.7319042 (2220)\ttotal: 55.8s\tremaining: 1m 9s\n",
      "2240:\ttest: 0.7319723\tbest: 0.7319723 (2240)\ttotal: 56.6s\tremaining: 1m 9s\n",
      "2260:\ttest: 0.7319092\tbest: 0.7319723 (2240)\ttotal: 57.5s\tremaining: 1m 9s\n",
      "2280:\ttest: 0.7319899\tbest: 0.7319899 (2280)\ttotal: 58.2s\tremaining: 1m 9s\n",
      "2300:\ttest: 0.7321891\tbest: 0.7321891 (2300)\ttotal: 58.8s\tremaining: 1m 8s\n",
      "2320:\ttest: 0.7321034\tbest: 0.7321891 (2300)\ttotal: 59.6s\tremaining: 1m 8s\n",
      "2340:\ttest: 0.7320807\tbest: 0.7321891 (2300)\ttotal: 1m\tremaining: 1m 8s\n",
      "2360:\ttest: 0.7321185\tbest: 0.7321891 (2300)\ttotal: 1m 1s\tremaining: 1m 8s\n",
      "2380:\ttest: 0.7321097\tbest: 0.7321891 (2300)\ttotal: 1m 2s\tremaining: 1m 8s\n",
      "2400:\ttest: 0.7320567\tbest: 0.7321891 (2300)\ttotal: 1m 2s\tremaining: 1m 7s\n",
      "2420:\ttest: 0.7320983\tbest: 0.7321891 (2300)\ttotal: 1m 3s\tremaining: 1m 7s\n",
      "2440:\ttest: 0.7320303\tbest: 0.7321891 (2300)\ttotal: 1m 3s\tremaining: 1m 6s\n",
      "2460:\ttest: 0.7319887\tbest: 0.7321891 (2300)\ttotal: 1m 4s\tremaining: 1m 6s\n",
      "2480:\ttest: 0.7319773\tbest: 0.7321891 (2300)\ttotal: 1m 4s\tremaining: 1m 5s\n",
      "2500:\ttest: 0.7320214\tbest: 0.7321891 (2300)\ttotal: 1m 5s\tremaining: 1m 4s\n",
      "2520:\ttest: 0.7320000\tbest: 0.7321891 (2300)\ttotal: 1m 5s\tremaining: 1m 4s\n",
      "2540:\ttest: 0.7320429\tbest: 0.7321891 (2300)\ttotal: 1m 6s\tremaining: 1m 3s\n",
      "2560:\ttest: 0.7320681\tbest: 0.7321891 (2300)\ttotal: 1m 6s\tremaining: 1m 3s\n",
      "2580:\ttest: 0.7319849\tbest: 0.7321891 (2300)\ttotal: 1m 6s\tremaining: 1m 2s\n",
      "2600:\ttest: 0.7319672\tbest: 0.7321891 (2300)\ttotal: 1m 7s\tremaining: 1m 2s\n",
      "2620:\ttest: 0.7319534\tbest: 0.7321891 (2300)\ttotal: 1m 7s\tremaining: 1m 1s\n",
      "2640:\ttest: 0.7319534\tbest: 0.7321891 (2300)\ttotal: 1m 8s\tremaining: 1m 1s\n",
      "2660:\ttest: 0.7319508\tbest: 0.7321891 (2300)\ttotal: 1m 8s\tremaining: 1m\n",
      "2680:\ttest: 0.7319723\tbest: 0.7321891 (2300)\ttotal: 1m 9s\tremaining: 1m\n",
      "2700:\ttest: 0.7319395\tbest: 0.7321891 (2300)\ttotal: 1m 9s\tremaining: 59.5s\n",
      "2720:\ttest: 0.7319408\tbest: 0.7321891 (2300)\ttotal: 1m 10s\tremaining: 59s\n",
      "2740:\ttest: 0.7319433\tbest: 0.7321891 (2300)\ttotal: 1m 11s\tremaining: 58.7s\n",
      "2760:\ttest: 0.7319458\tbest: 0.7321891 (2300)\ttotal: 1m 11s\tremaining: 58.2s\n",
      "2780:\ttest: 0.7318991\tbest: 0.7321891 (2300)\ttotal: 1m 12s\tremaining: 57.8s\n",
      "2800:\ttest: 0.7318147\tbest: 0.7321891 (2300)\ttotal: 1m 13s\tremaining: 57.4s\n",
      "2820:\ttest: 0.7317870\tbest: 0.7321891 (2300)\ttotal: 1m 13s\tremaining: 57.1s\n",
      "2840:\ttest: 0.7317743\tbest: 0.7321891 (2300)\ttotal: 1m 14s\tremaining: 56.8s\n",
      "2860:\ttest: 0.7317012\tbest: 0.7321891 (2300)\ttotal: 1m 15s\tremaining: 56.5s\n",
      "2880:\ttest: 0.7316861\tbest: 0.7321891 (2300)\ttotal: 1m 16s\tremaining: 56.1s\n",
      "2900:\ttest: 0.7316899\tbest: 0.7321891 (2300)\ttotal: 1m 16s\tremaining: 55.6s\n",
      "2920:\ttest: 0.7316886\tbest: 0.7321891 (2300)\ttotal: 1m 17s\tremaining: 55.1s\n",
      "2940:\ttest: 0.7316672\tbest: 0.7321891 (2300)\ttotal: 1m 17s\tremaining: 54.6s\n",
      "2960:\ttest: 0.7317201\tbest: 0.7321891 (2300)\ttotal: 1m 18s\tremaining: 54.1s\n",
      "2980:\ttest: 0.7317025\tbest: 0.7321891 (2300)\ttotal: 1m 18s\tremaining: 53.5s\n",
      "3000:\ttest: 0.7317756\tbest: 0.7321891 (2300)\ttotal: 1m 19s\tremaining: 52.9s\n",
      "3020:\ttest: 0.7317542\tbest: 0.7321891 (2300)\ttotal: 1m 19s\tremaining: 52.3s\n",
      "3040:\ttest: 0.7317353\tbest: 0.7321891 (2300)\ttotal: 1m 20s\tremaining: 51.7s\n",
      "3060:\ttest: 0.7316823\tbest: 0.7321891 (2300)\ttotal: 1m 20s\tremaining: 51.1s\n",
      "3080:\ttest: 0.7316495\tbest: 0.7321891 (2300)\ttotal: 1m 21s\tremaining: 50.5s\n",
      "3100:\ttest: 0.7316407\tbest: 0.7321891 (2300)\ttotal: 1m 21s\tremaining: 49.9s\n",
      "3120:\ttest: 0.7315802\tbest: 0.7321891 (2300)\ttotal: 1m 22s\tremaining: 49.4s\n",
      "3140:\ttest: 0.7316571\tbest: 0.7321891 (2300)\ttotal: 1m 22s\tremaining: 48.9s\n",
      "3160:\ttest: 0.7316748\tbest: 0.7321891 (2300)\ttotal: 1m 23s\tremaining: 48.3s\n",
      "3180:\ttest: 0.7316722\tbest: 0.7321891 (2300)\ttotal: 1m 23s\tremaining: 47.7s\n",
      "3200:\ttest: 0.7316042\tbest: 0.7321891 (2300)\ttotal: 1m 24s\tremaining: 47.2s\n",
      "3220:\ttest: 0.7316533\tbest: 0.7321891 (2300)\ttotal: 1m 24s\tremaining: 46.6s\n",
      "3240:\ttest: 0.7316861\tbest: 0.7321891 (2300)\ttotal: 1m 24s\tremaining: 46.1s\n",
      "3260:\ttest: 0.7316760\tbest: 0.7321891 (2300)\ttotal: 1m 25s\tremaining: 45.6s\n",
      "3280:\ttest: 0.7317088\tbest: 0.7321891 (2300)\ttotal: 1m 26s\tremaining: 45.1s\n",
      "3300:\ttest: 0.7316722\tbest: 0.7321891 (2300)\ttotal: 1m 26s\tremaining: 44.7s\n",
      "3320:\ttest: 0.7316659\tbest: 0.7321891 (2300)\ttotal: 1m 27s\tremaining: 44.2s\n",
      "3340:\ttest: 0.7316205\tbest: 0.7321891 (2300)\ttotal: 1m 28s\tremaining: 43.7s\n",
      "3360:\ttest: 0.7316685\tbest: 0.7321891 (2300)\ttotal: 1m 28s\tremaining: 43.3s\n",
      "3380:\ttest: 0.7316823\tbest: 0.7321891 (2300)\ttotal: 1m 29s\tremaining: 42.8s\n",
      "3400:\ttest: 0.7315802\tbest: 0.7321891 (2300)\ttotal: 1m 29s\tremaining: 42.3s\n",
      "3420:\ttest: 0.7315638\tbest: 0.7321891 (2300)\ttotal: 1m 30s\tremaining: 41.8s\n",
      "3440:\ttest: 0.7315197\tbest: 0.7321891 (2300)\ttotal: 1m 31s\tremaining: 41.3s\n",
      "3460:\ttest: 0.7315071\tbest: 0.7321891 (2300)\ttotal: 1m 31s\tremaining: 40.8s\n",
      "3480:\ttest: 0.7314756\tbest: 0.7321891 (2300)\ttotal: 1m 32s\tremaining: 40.3s\n",
      "3500:\ttest: 0.7314819\tbest: 0.7321891 (2300)\ttotal: 1m 33s\tremaining: 39.8s\n",
      "3520:\ttest: 0.7314705\tbest: 0.7321891 (2300)\ttotal: 1m 33s\tremaining: 39.3s\n",
      "3540:\ttest: 0.7314756\tbest: 0.7321891 (2300)\ttotal: 1m 33s\tremaining: 38.7s\n",
      "3560:\ttest: 0.7314705\tbest: 0.7321891 (2300)\ttotal: 1m 34s\tremaining: 38.1s\n",
      "3580:\ttest: 0.7314441\tbest: 0.7321891 (2300)\ttotal: 1m 34s\tremaining: 37.6s\n",
      "3600:\ttest: 0.7313747\tbest: 0.7321891 (2300)\ttotal: 1m 35s\tremaining: 37s\n",
      "3620:\ttest: 0.7312940\tbest: 0.7321891 (2300)\ttotal: 1m 35s\tremaining: 36.5s\n",
      "3640:\ttest: 0.7313079\tbest: 0.7321891 (2300)\ttotal: 1m 36s\tremaining: 35.9s\n",
      "3660:\ttest: 0.7312701\tbest: 0.7321891 (2300)\ttotal: 1m 36s\tremaining: 35.4s\n",
      "3680:\ttest: 0.7312890\tbest: 0.7321891 (2300)\ttotal: 1m 37s\tremaining: 34.8s\n",
      "3700:\ttest: 0.7312537\tbest: 0.7321891 (2300)\ttotal: 1m 37s\tremaining: 34.3s\n",
      "3720:\ttest: 0.7312575\tbest: 0.7321891 (2300)\ttotal: 1m 38s\tremaining: 33.7s\n",
      "3740:\ttest: 0.7312512\tbest: 0.7321891 (2300)\ttotal: 1m 38s\tremaining: 33.2s\n",
      "3760:\ttest: 0.7311781\tbest: 0.7321891 (2300)\ttotal: 1m 38s\tremaining: 32.6s\n",
      "3780:\ttest: 0.7311276\tbest: 0.7321891 (2300)\ttotal: 1m 39s\tremaining: 32s\n",
      "3800:\ttest: 0.7310986\tbest: 0.7321891 (2300)\ttotal: 1m 39s\tremaining: 31.5s\n",
      "3820:\ttest: 0.7310117\tbest: 0.7321891 (2300)\ttotal: 1m 40s\tremaining: 30.9s\n",
      "3840:\ttest: 0.7309764\tbest: 0.7321891 (2300)\ttotal: 1m 40s\tremaining: 30.4s\n",
      "3860:\ttest: 0.7310217\tbest: 0.7321891 (2300)\ttotal: 1m 41s\tremaining: 29.8s\n",
      "3880:\ttest: 0.7309852\tbest: 0.7321891 (2300)\ttotal: 1m 41s\tremaining: 29.3s\n",
      "3900:\ttest: 0.7309675\tbest: 0.7321891 (2300)\ttotal: 1m 42s\tremaining: 28.8s\n",
      "3920:\ttest: 0.7309196\tbest: 0.7321891 (2300)\ttotal: 1m 42s\tremaining: 28.3s\n",
      "3940:\ttest: 0.7309373\tbest: 0.7321891 (2300)\ttotal: 1m 43s\tremaining: 27.8s\n",
      "3960:\ttest: 0.7309184\tbest: 0.7321891 (2300)\ttotal: 1m 44s\tremaining: 27.3s\n",
      "3980:\ttest: 0.7308969\tbest: 0.7321891 (2300)\ttotal: 1m 44s\tremaining: 26.8s\n",
      "4000:\ttest: 0.7308478\tbest: 0.7321891 (2300)\ttotal: 1m 45s\tremaining: 26.3s\n",
      "4020:\ttest: 0.7308957\tbest: 0.7321891 (2300)\ttotal: 1m 46s\tremaining: 25.8s\n",
      "4040:\ttest: 0.7308541\tbest: 0.7321891 (2300)\ttotal: 1m 46s\tremaining: 25.3s\n",
      "4060:\ttest: 0.7307772\tbest: 0.7321891 (2300)\ttotal: 1m 47s\tremaining: 24.8s\n",
      "4080:\ttest: 0.7308024\tbest: 0.7321891 (2300)\ttotal: 1m 47s\tremaining: 24.3s\n",
      "4100:\ttest: 0.7307633\tbest: 0.7321891 (2300)\ttotal: 1m 48s\tremaining: 23.8s\n",
      "4120:\ttest: 0.7307028\tbest: 0.7321891 (2300)\ttotal: 1m 48s\tremaining: 23.2s\n",
      "4140:\ttest: 0.7307116\tbest: 0.7321891 (2300)\ttotal: 1m 49s\tremaining: 22.7s\n",
      "4160:\ttest: 0.7306625\tbest: 0.7321891 (2300)\ttotal: 1m 49s\tremaining: 22.1s\n",
      "4180:\ttest: 0.7306209\tbest: 0.7321891 (2300)\ttotal: 1m 50s\tremaining: 21.6s\n",
      "4200:\ttest: 0.7306385\tbest: 0.7321891 (2300)\ttotal: 1m 50s\tremaining: 21.1s\n",
      "4220:\ttest: 0.7306146\tbest: 0.7321891 (2300)\ttotal: 1m 51s\tremaining: 20.5s\n",
      "4240:\ttest: 0.7305578\tbest: 0.7321891 (2300)\ttotal: 1m 51s\tremaining: 20s\n",
      "4260:\ttest: 0.7305049\tbest: 0.7321891 (2300)\ttotal: 1m 51s\tremaining: 19.4s\n",
      "4280:\ttest: 0.7304809\tbest: 0.7321891 (2300)\ttotal: 1m 52s\tremaining: 18.9s\n",
      "4300:\ttest: 0.7304280\tbest: 0.7321891 (2300)\ttotal: 1m 52s\tremaining: 18.3s\n",
      "4320:\ttest: 0.7304192\tbest: 0.7321891 (2300)\ttotal: 1m 53s\tremaining: 17.8s\n",
      "4340:\ttest: 0.7303801\tbest: 0.7321891 (2300)\ttotal: 1m 53s\tremaining: 17.3s\n",
      "4360:\ttest: 0.7303511\tbest: 0.7321891 (2300)\ttotal: 1m 54s\tremaining: 16.7s\n"
     ]
    },
    {
     "name": "stdout",
     "output_type": "stream",
     "text": [
      "4380:\ttest: 0.7302603\tbest: 0.7321891 (2300)\ttotal: 1m 54s\tremaining: 16.2s\n",
      "4400:\ttest: 0.7302175\tbest: 0.7321891 (2300)\ttotal: 1m 55s\tremaining: 15.7s\n",
      "4420:\ttest: 0.7301973\tbest: 0.7321891 (2300)\ttotal: 1m 55s\tremaining: 15.1s\n",
      "4440:\ttest: 0.7301796\tbest: 0.7321891 (2300)\ttotal: 1m 55s\tremaining: 14.6s\n",
      "4460:\ttest: 0.7301305\tbest: 0.7321891 (2300)\ttotal: 1m 56s\tremaining: 14s\n",
      "4480:\ttest: 0.7301179\tbest: 0.7321891 (2300)\ttotal: 1m 56s\tremaining: 13.5s\n",
      "4500:\ttest: 0.7300864\tbest: 0.7321891 (2300)\ttotal: 1m 57s\tremaining: 13s\n",
      "4520:\ttest: 0.7299943\tbest: 0.7321891 (2300)\ttotal: 1m 57s\tremaining: 12.4s\n",
      "4540:\ttest: 0.7299590\tbest: 0.7321891 (2300)\ttotal: 1m 57s\tremaining: 11.9s\n",
      "4560:\ttest: 0.7298985\tbest: 0.7321891 (2300)\ttotal: 1m 58s\tremaining: 11.4s\n",
      "4580:\ttest: 0.7298531\tbest: 0.7321891 (2300)\ttotal: 1m 59s\tremaining: 10.9s\n",
      "4600:\ttest: 0.7298103\tbest: 0.7321891 (2300)\ttotal: 1m 59s\tremaining: 10.4s\n",
      "4620:\ttest: 0.7297712\tbest: 0.7321891 (2300)\ttotal: 2m\tremaining: 9.89s\n",
      "4640:\ttest: 0.7297082\tbest: 0.7321891 (2300)\ttotal: 2m 1s\tremaining: 9.37s\n",
      "4660:\ttest: 0.7296275\tbest: 0.7321891 (2300)\ttotal: 2m 1s\tremaining: 8.85s\n",
      "4680:\ttest: 0.7295960\tbest: 0.7321891 (2300)\ttotal: 2m 2s\tremaining: 8.35s\n",
      "4700:\ttest: 0.7295153\tbest: 0.7321891 (2300)\ttotal: 2m 3s\tremaining: 7.84s\n",
      "4720:\ttest: 0.7294787\tbest: 0.7321891 (2300)\ttotal: 2m 4s\tremaining: 7.35s\n",
      "4740:\ttest: 0.7293577\tbest: 0.7321891 (2300)\ttotal: 2m 4s\tremaining: 6.82s\n",
      "4760:\ttest: 0.7293577\tbest: 0.7321891 (2300)\ttotal: 2m 5s\tremaining: 6.29s\n",
      "4780:\ttest: 0.7293791\tbest: 0.7321891 (2300)\ttotal: 2m 5s\tremaining: 5.76s\n",
      "4800:\ttest: 0.7294081\tbest: 0.7321891 (2300)\ttotal: 2m 6s\tremaining: 5.24s\n",
      "4820:\ttest: 0.7293842\tbest: 0.7321891 (2300)\ttotal: 2m 6s\tremaining: 4.71s\n",
      "4840:\ttest: 0.7293716\tbest: 0.7321891 (2300)\ttotal: 2m 7s\tremaining: 4.18s\n",
      "4860:\ttest: 0.7293489\tbest: 0.7321891 (2300)\ttotal: 2m 7s\tremaining: 3.65s\n",
      "4880:\ttest: 0.7293035\tbest: 0.7321891 (2300)\ttotal: 2m 8s\tremaining: 3.13s\n",
      "4900:\ttest: 0.7292934\tbest: 0.7321891 (2300)\ttotal: 2m 8s\tremaining: 2.6s\n",
      "4920:\ttest: 0.7292077\tbest: 0.7321891 (2300)\ttotal: 2m 9s\tremaining: 2.08s\n",
      "4940:\ttest: 0.7291749\tbest: 0.7321891 (2300)\ttotal: 2m 9s\tremaining: 1.55s\n",
      "4960:\ttest: 0.7291308\tbest: 0.7321891 (2300)\ttotal: 2m 10s\tremaining: 1.02s\n",
      "4980:\ttest: 0.7290766\tbest: 0.7321891 (2300)\ttotal: 2m 10s\tremaining: 499ms\n",
      "4999:\ttest: 0.7290463\tbest: 0.7321891 (2300)\ttotal: 2m 11s\tremaining: 0us\n",
      "\n",
      "bestTest = 0.7321890955\n",
      "bestIteration = 2300\n",
      "\n",
      "Shrink model to first 2301 iterations.\n"
     ]
    }
   ],
   "source": [
    "### Instantiate the Catboost model\n",
    "model = CatBoostClassifier( iterations=5000,eval_metric=\"AUC\",\n",
    "                          learning_rate=0.008, depth=2,\n",
    "                          random_seed = 20,    \n",
    "                          verbose=True,\n",
    "                           metric_period=20,\n",
    "                          use_best_model=True,\n",
    "                )\n",
    "### Now fit the model in the training dataset\n",
    "cat_model = model.fit(X_train,y_train,cat_features= cat_features,use_best_model=True,plot=True,\n",
    "                     eval_set= (X_val,y_val))"
   ]
  },
  {
   "cell_type": "code",
   "execution_count": 317,
   "id": "828afafb",
   "metadata": {},
   "outputs": [],
   "source": [
    "## Code to check the performance on the oversampled training set\n",
    "cat_train_perf = model_performance_classification_sklearn(cat_model, X_train, y_train)\n",
    "## Code to check the performance on validation\n",
    "cat_val_perf = model_performance_classification_sklearn(cat_model,X_val,y_val) "
   ]
  },
  {
   "cell_type": "code",
   "execution_count": 318,
   "id": "c9d325fb",
   "metadata": {},
   "outputs": [],
   "source": [
    "cat_perf= pd.concat([cat_train_perf.T,cat_val_perf.T],axis=1)\n",
    "cat_perf.columns=[\"Training\",\"Validation\"]"
   ]
  },
  {
   "cell_type": "code",
   "execution_count": 319,
   "id": "f901e044",
   "metadata": {},
   "outputs": [
    {
     "name": "stdout",
     "output_type": "stream",
     "text": [
      "Catboost Performance Measures Using the Original data\n"
     ]
    },
    {
     "data": {
      "text/html": [
       "<div>\n",
       "<style scoped>\n",
       "    .dataframe tbody tr th:only-of-type {\n",
       "        vertical-align: middle;\n",
       "    }\n",
       "\n",
       "    .dataframe tbody tr th {\n",
       "        vertical-align: top;\n",
       "    }\n",
       "\n",
       "    .dataframe thead th {\n",
       "        text-align: right;\n",
       "    }\n",
       "</style>\n",
       "<table border=\"1\" class=\"dataframe\">\n",
       "  <thead>\n",
       "    <tr style=\"text-align: right;\">\n",
       "      <th></th>\n",
       "      <th>Training</th>\n",
       "      <th>Validation</th>\n",
       "    </tr>\n",
       "  </thead>\n",
       "  <tbody>\n",
       "    <tr>\n",
       "      <th>Accuracy</th>\n",
       "      <td>0.791</td>\n",
       "      <td>0.794</td>\n",
       "    </tr>\n",
       "    <tr>\n",
       "      <th>Recall</th>\n",
       "      <td>0.206</td>\n",
       "      <td>0.183</td>\n",
       "    </tr>\n",
       "    <tr>\n",
       "      <th>Precision</th>\n",
       "      <td>0.650</td>\n",
       "      <td>0.621</td>\n",
       "    </tr>\n",
       "    <tr>\n",
       "      <th>F1</th>\n",
       "      <td>0.313</td>\n",
       "      <td>0.283</td>\n",
       "    </tr>\n",
       "  </tbody>\n",
       "</table>\n",
       "</div>"
      ],
      "text/plain": [
       "           Training  Validation\n",
       "Accuracy      0.791       0.794\n",
       "Recall        0.206       0.183\n",
       "Precision     0.650       0.621\n",
       "F1            0.313       0.283"
      ]
     },
     "execution_count": 319,
     "metadata": {},
     "output_type": "execute_result"
    }
   ],
   "source": [
    "print(\"Catboost Performance Measures Using the Original data\")\n",
    "cat_perf"
   ]
  },
  {
   "cell_type": "markdown",
   "id": "ecfb4722",
   "metadata": {},
   "source": [
    "### Model Building with oversampled data"
   ]
  },
  {
   "cell_type": "code",
   "execution_count": 281,
   "id": "6245144f",
   "metadata": {},
   "outputs": [],
   "source": [
    "# To oversample and undersample data\n",
    "from imblearn import under_sampling, over_sampling\n",
    "from imblearn.over_sampling import SMOTE\n",
    "from imblearn.under_sampling import RandomUnderSampler"
   ]
  },
  {
   "cell_type": "code",
   "execution_count": 283,
   "id": "d3abb980",
   "metadata": {},
   "outputs": [
    {
     "name": "stdout",
     "output_type": "stream",
     "text": [
      "<class 'pandas.core.frame.DataFrame'>\n",
      "Index: 5003 entries, 3607 to 5164\n",
      "Data columns (total 12 columns):\n",
      " #   Column              Non-Null Count  Dtype  \n",
      "---  ------              --------------  -----  \n",
      " 0   YearOfObservation   5003 non-null   object \n",
      " 1   Insured_Period      5003 non-null   float64\n",
      " 2   Residential         5003 non-null   float64\n",
      " 3   Building_Painted    5003 non-null   object \n",
      " 4   Building_Fenced     5003 non-null   object \n",
      " 5   Garden              5003 non-null   object \n",
      " 6   Settlement          5003 non-null   object \n",
      " 7   Building Dimension  5003 non-null   float64\n",
      " 8   Building_Type       5003 non-null   float64\n",
      " 9   Date_of_Occupancy   5003 non-null   object \n",
      " 10  NumberOfWindows     5003 non-null   float64\n",
      " 11  Geo_Code            5003 non-null   object \n",
      "dtypes: float64(5), object(7)\n",
      "memory usage: 508.1+ KB\n"
     ]
    }
   ],
   "source": [
    "X_train.info()"
   ]
  },
  {
   "cell_type": "code",
   "execution_count": null,
   "id": "c7959eba",
   "metadata": {},
   "outputs": [],
   "source": [
    "# Synthetic Minority Over Sampling Technique\n",
    "sm = SMOTE(sampling_strategy=1, k_neighbors=5, random_state=1)\n",
    "X_train_over, y_train_over = sm.fit_resample(X_train, y_train)\n",
    "X_val_over, y_val_over = sm.fit_resample(X_val, y_val)"
   ]
  },
  {
   "cell_type": "code",
   "execution_count": null,
   "id": "1f6d30a9",
   "metadata": {},
   "outputs": [],
   "source": [
    "### Instantiate the Catboost model\n",
    "model = CatBoostClassifier(  iterations=5000,eval_metric=\"AUC\",\n",
    "                          learning_rate=0.001, depth=2,\n",
    "                          random_seed = 20,    \n",
    "                          verbose=True,\n",
    "                          use_best_model=True,\n",
    "                         )\n",
    "### Now fit the model in the training dataset\n",
    "cat_model_over = model.fit(X_train_over,y_train_over,cat_features= cat_features,use_best_model=True,plot=True,\n",
    "                     eval_set= (X_val_over,y_val_over))"
   ]
  },
  {
   "cell_type": "code",
   "execution_count": null,
   "id": "fe7bc34f",
   "metadata": {},
   "outputs": [],
   "source": [
    "params = {'iterations':5,\n",
    "         'learning_rate':0.5,\n",
    "          'cat_features':cat_features,\n",
    "          'depth':2,\n",
    "          'eval_metric':'AUC',\n",
    "          'verbose':True,\n",
    "         \n",
    "         }\n",
    "model_classifier = CatBoostClassifier(**params)\n",
    "model_classifier.fit(X_train,y_train,eval_set= (X_val,y_val),t_model=True,plot=True)"
   ]
  },
  {
   "cell_type": "code",
   "execution_count": null,
   "id": "0100decb",
   "metadata": {},
   "outputs": [],
   "source": [
    "## Code to check the performance on the oversampled training set\n",
    "cat_train_perf_over = model_performance_classification_sklearn(cat_model_over, X_train_over, y_train_over)\n",
    "## Code to check the performance on validation\n",
    "cat_val_perf_over = model_performance_classification_sklearn(cat_model_over,X_val_over,y_val_over) "
   ]
  },
  {
   "cell_type": "code",
   "execution_count": null,
   "id": "99c7bc84",
   "metadata": {},
   "outputs": [],
   "source": [
    "cat_perf_over=pd.concat([cat_train_perf_over.T,cat_val_perf_over.T],axis=1)\n",
    "cat_perf_over.columns=[\"Training\",\"Validation\"]"
   ]
  },
  {
   "cell_type": "code",
   "execution_count": null,
   "id": "ddcdc457",
   "metadata": {},
   "outputs": [],
   "source": [
    "print(\"Catboost Performance measures using Over-Sampled Data\")\n",
    "cat_perf_over"
   ]
  },
  {
   "cell_type": "markdown",
   "id": "b29b8e54",
   "metadata": {},
   "source": [
    "### Feature Importances"
   ]
  },
  {
   "cell_type": "code",
   "execution_count": 320,
   "id": "85f6e8a3",
   "metadata": {},
   "outputs": [
    {
     "data": {
      "image/png": "[encoded data removed]",
      "text/plain": [
       "<Figure size 1200x1200 with 1 Axes>"
      ]
     },
     "metadata": {},
     "output_type": "display_data"
    }
   ],
   "source": [
    " ## Code to check the feature importance on the best model\n",
    "feature_names = features\n",
    "importances =  cat_model.feature_importances_  \n",
    "indices = np.argsort(importances)\n",
    "plt.figure(figsize=(12, 12))\n",
    "plt.title(\"Feature Importances\")\n",
    "plt.barh(range(len(indices)), importances[indices], color=\"blue\", align=\"center\")\n",
    "plt.yticks(range(len(indices)), [feature_names[i] for i in indices])\n",
    "plt.xlabel(\"Relative Importance\")\n",
    "plt.show()"
   ]
  },
  {
   "cell_type": "code",
   "execution_count": 321,
   "id": "0df34a1a",
   "metadata": {},
   "outputs": [
    {
     "data": {
      "text/html": [
       "<div>\n",
       "<style scoped>\n",
       "    .dataframe tbody tr th:only-of-type {\n",
       "        vertical-align: middle;\n",
       "    }\n",
       "\n",
       "    .dataframe tbody tr th {\n",
       "        vertical-align: top;\n",
       "    }\n",
       "\n",
       "    .dataframe thead th {\n",
       "        text-align: right;\n",
       "    }\n",
       "</style>\n",
       "<table border=\"1\" class=\"dataframe\">\n",
       "  <thead>\n",
       "    <tr style=\"text-align: right;\">\n",
       "      <th></th>\n",
       "      <th>Customer Id</th>\n",
       "      <th>YearOfObservation</th>\n",
       "      <th>Insured_Period</th>\n",
       "      <th>Residential</th>\n",
       "      <th>Building_Painted</th>\n",
       "      <th>Building_Fenced</th>\n",
       "      <th>Garden</th>\n",
       "      <th>Settlement</th>\n",
       "      <th>Building Dimension</th>\n",
       "      <th>Building_Type</th>\n",
       "      <th>Date_of_Occupancy</th>\n",
       "      <th>NumberOfWindows</th>\n",
       "      <th>Geo_Code</th>\n",
       "      <th>Claim</th>\n",
       "    </tr>\n",
       "  </thead>\n",
       "  <tbody>\n",
       "    <tr>\n",
       "      <th>0</th>\n",
       "      <td>H11920</td>\n",
       "      <td>2013</td>\n",
       "      <td>1.000</td>\n",
       "      <td>0</td>\n",
       "      <td>V</td>\n",
       "      <td>N</td>\n",
       "      <td>O</td>\n",
       "      <td>R</td>\n",
       "      <td>300.000</td>\n",
       "      <td>1</td>\n",
       "      <td>1960.000</td>\n",
       "      <td>3</td>\n",
       "      <td>3310</td>\n",
       "      <td>0</td>\n",
       "    </tr>\n",
       "    <tr>\n",
       "      <th>1</th>\n",
       "      <td>H11921</td>\n",
       "      <td>2016</td>\n",
       "      <td>0.997</td>\n",
       "      <td>0</td>\n",
       "      <td>V</td>\n",
       "      <td>N</td>\n",
       "      <td>O</td>\n",
       "      <td>R</td>\n",
       "      <td>300.000</td>\n",
       "      <td>1</td>\n",
       "      <td>1960.000</td>\n",
       "      <td>3</td>\n",
       "      <td>3310</td>\n",
       "      <td>0</td>\n",
       "    </tr>\n",
       "    <tr>\n",
       "      <th>2</th>\n",
       "      <td>H9805</td>\n",
       "      <td>2013</td>\n",
       "      <td>0.370</td>\n",
       "      <td>0</td>\n",
       "      <td>V</td>\n",
       "      <td>V</td>\n",
       "      <td>V</td>\n",
       "      <td>U</td>\n",
       "      <td>790.000</td>\n",
       "      <td>1</td>\n",
       "      <td>1960.000</td>\n",
       "      <td>.</td>\n",
       "      <td>3310</td>\n",
       "      <td>0</td>\n",
       "    </tr>\n",
       "    <tr>\n",
       "      <th>3</th>\n",
       "      <td>H7493</td>\n",
       "      <td>2014</td>\n",
       "      <td>1.000</td>\n",
       "      <td>0</td>\n",
       "      <td>V</td>\n",
       "      <td>N</td>\n",
       "      <td>O</td>\n",
       "      <td>R</td>\n",
       "      <td>1405.000</td>\n",
       "      <td>1</td>\n",
       "      <td>2004.000</td>\n",
       "      <td>3</td>\n",
       "      <td>3321</td>\n",
       "      <td>0</td>\n",
       "    </tr>\n",
       "    <tr>\n",
       "      <th>4</th>\n",
       "      <td>H7494</td>\n",
       "      <td>2016</td>\n",
       "      <td>1.000</td>\n",
       "      <td>0</td>\n",
       "      <td>V</td>\n",
       "      <td>N</td>\n",
       "      <td>O</td>\n",
       "      <td>R</td>\n",
       "      <td>1405.000</td>\n",
       "      <td>1</td>\n",
       "      <td>2004.000</td>\n",
       "      <td>3</td>\n",
       "      <td>3321</td>\n",
       "      <td>0</td>\n",
       "    </tr>\n",
       "  </tbody>\n",
       "</table>\n",
       "</div>"
      ],
      "text/plain": [
       "  Customer Id  YearOfObservation  Insured_Period  Residential  \\\n",
       "0      H11920               2013           1.000            0   \n",
       "1      H11921               2016           0.997            0   \n",
       "2       H9805               2013           0.370            0   \n",
       "3       H7493               2014           1.000            0   \n",
       "4       H7494               2016           1.000            0   \n",
       "\n",
       "  Building_Painted Building_Fenced Garden Settlement  Building Dimension  \\\n",
       "0                V               N      O          R             300.000   \n",
       "1                V               N      O          R             300.000   \n",
       "2                V               V      V          U             790.000   \n",
       "3                V               N      O          R            1405.000   \n",
       "4                V               N      O          R            1405.000   \n",
       "\n",
       "   Building_Type  Date_of_Occupancy NumberOfWindows Geo_Code  Claim  \n",
       "0              1           1960.000               3     3310      0  \n",
       "1              1           1960.000               3     3310      0  \n",
       "2              1           1960.000               .     3310      0  \n",
       "3              1           2004.000               3     3321      0  \n",
       "4              1           2004.000               3     3321      0  "
      ]
     },
     "execution_count": 321,
     "metadata": {},
     "output_type": "execute_result"
    }
   ],
   "source": [
    "data_test.head()"
   ]
  },
  {
   "cell_type": "code",
   "execution_count": 322,
   "id": "abc5ac1a",
   "metadata": {},
   "outputs": [
    {
     "data": {
      "text/plain": [
       "(3069, 14)"
      ]
     },
     "execution_count": 322,
     "metadata": {},
     "output_type": "execute_result"
    }
   ],
   "source": [
    "data_test.shape"
   ]
  },
  {
   "cell_type": "code",
   "execution_count": 323,
   "id": "de39cb4e",
   "metadata": {},
   "outputs": [],
   "source": [
    "# Code   to predict  the target  variable using the best model on the  testing dataset\n",
    "data_test[\"Claim\"] = cat_model.predict(X_test)"
   ]
  },
  {
   "cell_type": "code",
   "execution_count": 324,
   "id": "8250591b",
   "metadata": {},
   "outputs": [
    {
     "data": {
      "text/plain": [
       "Claim\n",
       "0   0.943\n",
       "1   0.057\n",
       "Name: proportion, dtype: float64"
      ]
     },
     "execution_count": 324,
     "metadata": {},
     "output_type": "execute_result"
    }
   ],
   "source": [
    "data_test[\"Claim\"].value_counts(normalize=True)"
   ]
  },
  {
   "cell_type": "code",
   "execution_count": 325,
   "id": "29507505",
   "metadata": {},
   "outputs": [
    {
     "data": {
      "image/png": "[encoded data removed]",
      "text/plain": [
       "<Figure size 400x500 with 1 Axes>"
      ]
     },
     "metadata": {},
     "output_type": "display_data"
    }
   ],
   "source": [
    "# Create a pie chart to show the percentage for the target column\n",
    "plt.figure(figsize=(4,5))\n",
    "values = data_test[\"Claim\"].value_counts() /data_test.shape[0]\n",
    "plt.pie(values,labels=values.keys(),autopct=\"%1.1f%%\",shadow=True)\n",
    "plt.title(\"Percentage of No Claims vs Claims \")\n",
    "plt.show()"
   ]
  },
  {
   "cell_type": "code",
   "execution_count": 326,
   "id": "3b74195e",
   "metadata": {},
   "outputs": [],
   "source": [
    "data_df =pd.DataFrame({\"Customer ID\":data_test['Customer Id'],\"Claim\":data_test[\"Claim\"]})"
   ]
  },
  {
   "cell_type": "code",
   "execution_count": 327,
   "id": "ae32ee0d",
   "metadata": {},
   "outputs": [
    {
     "data": {
      "text/html": [
       "<div>\n",
       "<style scoped>\n",
       "    .dataframe tbody tr th:only-of-type {\n",
       "        vertical-align: middle;\n",
       "    }\n",
       "\n",
       "    .dataframe tbody tr th {\n",
       "        vertical-align: top;\n",
       "    }\n",
       "\n",
       "    .dataframe thead th {\n",
       "        text-align: right;\n",
       "    }\n",
       "</style>\n",
       "<table border=\"1\" class=\"dataframe\">\n",
       "  <thead>\n",
       "    <tr style=\"text-align: right;\">\n",
       "      <th></th>\n",
       "      <th>Customer ID</th>\n",
       "      <th>Claim</th>\n",
       "    </tr>\n",
       "  </thead>\n",
       "  <tbody>\n",
       "    <tr>\n",
       "      <th>0</th>\n",
       "      <td>H11920</td>\n",
       "      <td>0</td>\n",
       "    </tr>\n",
       "    <tr>\n",
       "      <th>1</th>\n",
       "      <td>H11921</td>\n",
       "      <td>0</td>\n",
       "    </tr>\n",
       "    <tr>\n",
       "      <th>2</th>\n",
       "      <td>H9805</td>\n",
       "      <td>0</td>\n",
       "    </tr>\n",
       "    <tr>\n",
       "      <th>3</th>\n",
       "      <td>H7493</td>\n",
       "      <td>0</td>\n",
       "    </tr>\n",
       "    <tr>\n",
       "      <th>4</th>\n",
       "      <td>H7494</td>\n",
       "      <td>0</td>\n",
       "    </tr>\n",
       "  </tbody>\n",
       "</table>\n",
       "</div>"
      ],
      "text/plain": [
       "  Customer ID  Claim\n",
       "0      H11920      0\n",
       "1      H11921      0\n",
       "2       H9805      0\n",
       "3       H7493      0\n",
       "4       H7494      0"
      ]
     },
     "execution_count": 327,
     "metadata": {},
     "output_type": "execute_result"
    }
   ],
   "source": [
    "data_df.head()"
   ]
  },
  {
   "cell_type": "code",
   "execution_count": 328,
   "id": "615e3cad",
   "metadata": {},
   "outputs": [],
   "source": [
    " # code to save the predicted dataset as a csv file\n",
    "data_df.to_csv(\"Submission_file(Insurance2).csv\",index=False)"
   ]
  },
  {
   "cell_type": "markdown",
   "id": "508d9582",
   "metadata": {},
   "source": [
    "### Insights and conclusions"
   ]
  }
 ],
 "metadata": {
  "kernelspec": {
   "display_name": "Python 3 (ipykernel)",
   "language": "python",
   "name": "python3"
  },
  "language_info": {
   "codemirror_mode": {
    "name": "ipython",
    "version": 3
   },
   "file_extension": ".py",
   "mimetype": "text/x-python",
   "name": "python",
   "nbconvert_exporter": "python",
   "pygments_lexer": "ipython3",
   "version": "3.11.5"
  }
 },
 "nbformat": 4,
 "nbformat_minor": 5
}
